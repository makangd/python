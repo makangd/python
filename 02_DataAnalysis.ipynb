{
 "cells": [
  {
   "cell_type": "markdown",
   "metadata": {
    "slideshow": {
     "slide_type": "slide"
    }
   },
   "source": [
    "# Data Analysis in Python\n",
    "\n",
    "\n",
    "<img src=\"images/analysis_header.png\" width=500 />"
   ]
  },
  {
   "cell_type": "markdown",
   "metadata": {
    "slideshow": {
     "slide_type": "slide"
    }
   },
   "source": [
    "## The mighty three\n",
    "\n",
    "- NumPy: \"[NumPy](http://www.numpy.org) is the fundamental package for scientific computing with Python*\"\n",
    "\n",
    "- Pandas: \"[pandas](https://pandas.pydata.org) is an open source, BSD-licensed library providing high-performance, easy-to-use data structures and data analysis tools for the Python programming language*\"\n",
    "\n",
    "- Matplotlib: \"[Matplotlib](https://matplotlib.org) is a Python 2D plotting library which produces publication quality figures in a variety of hardcopy formats and interactive environments across platforms*\"\n",
    "\n",
    "<img src=\"images/mighty3.png\" />"
   ]
  },
  {
   "cell_type": "markdown",
   "metadata": {
    "slideshow": {
     "slide_type": "slide"
    }
   },
   "source": [
    "## Installation\n",
    "\n",
    "You can always check here: https://anaconda.org/\n",
    "\n",
    "conda install numpy\n",
    "\n",
    "conda install pandas\n",
    "\n",
    "conda install matplotlib\n",
    "\n",
    "OR\n",
    "\n",
    "pip install numpy\n",
    "\n",
    "pip install pandas\n",
    "\n",
    "pip install matplotlib\n",
    "\n"
   ]
  },
  {
   "cell_type": "markdown",
   "metadata": {
    "slideshow": {
     "slide_type": "slide"
    }
   },
   "source": [
    "##### Data types \n",
    "\n",
    "<img src=\"images/types.png\"  />"
   ]
  },
  {
   "cell_type": "markdown",
   "metadata": {
    "slideshow": {
     "slide_type": "slide"
    }
   },
   "source": [
    "## Fast, faster, NumPy\n",
    "\n",
    "<img src=\"images/numpy.png\"  width=200 align=right />\n",
    "\n",
    "Numpy allows us to run mathematical operations over calculations in a efficiant manner. \n",
    "Numpy provides several advantages for python user:\n",
    "\n",
    "- powerful n-dimensional arrays\n",
    "- advanced functions\n",
    "- can integrate C/C++ and Fortran code\n",
    "- efficient linear  algebra, random number generation and Fourier transformation \n",
    "\n"
   ]
  },
  {
   "cell_type": "markdown",
   "metadata": {
    "slideshow": {
     "slide_type": "slide"
    }
   },
   "source": [
    "## Numpy arrays\n",
    "\n",
    "The core class is the numpy ndarray (n-dimensional array). We can initialize a numpy array from nested Python lists."
   ]
  },
  {
   "cell_type": "code",
   "execution_count": null,
   "metadata": {
    "slideshow": {
     "slide_type": "fragment"
    }
   },
   "outputs": [],
   "source": [
    "# create numpy array\n",
    "import numpy as np\n",
    "\n",
    "# 1d array\n",
    "a = np.array([1, 2, 3, 4 , 5, 6])\n",
    "\n",
    "# 2d array\n",
    "b = np.array([[1, 2, 3,4 , 5, 6],[1, 2, 3,4 , 5, 6]])\n",
    "\n",
    "# 3d array\n",
    "c = np.array([[[1,2,3,4], [5,6,7,8], [9,10,11,12],[13,14,15,16]],[[1,2,3,4], [5,6,7,8], [9,10,11,12],[13,14,15,16]]])"
   ]
  },
  {
   "cell_type": "code",
   "execution_count": null,
   "metadata": {
    "slideshow": {
     "slide_type": "fragment"
    }
   },
   "outputs": [],
   "source": [
    "# create an array from a list\n",
    "a = np.arange(18).reshape(3, 3, 2)\n",
    "print(a)\n",
    "# find out the datatype\n",
    "a.dtype\n",
    "# find out the shape\n",
    "a.shape"
   ]
  },
  {
   "cell_type": "markdown",
   "metadata": {
    "slideshow": {
     "slide_type": "slide"
    }
   },
   "source": [
    "<img src=\"images/array.png\" width=200 />"
   ]
  },
  {
   "cell_type": "markdown",
   "metadata": {
    "slideshow": {
     "slide_type": "slide"
    }
   },
   "source": [
    "### Vectorization\n",
    "\n",
    "When looping over an list or an array, there’s a lot of overhead involved. Vectorized operations in NumPy delegate the looping internally to highly optimized C and Fortran functions.\n"
   ]
  },
  {
   "cell_type": "code",
   "execution_count": 20,
   "metadata": {
    "slideshow": {
     "slide_type": "fragment"
    }
   },
   "outputs": [
    {
     "name": "stdout",
     "output_type": "stream",
     "text": [
      "3.72 ms ± 90.4 µs per loop (mean ± std. dev. of 7 runs, 100 loops each)\n",
      "29 µs ± 519 ns per loop (mean ± std. dev. of 7 runs, 10000 loops each)\n"
     ]
    }
   ],
   "source": [
    "# traditional python\n",
    "\n",
    "a = list(range(100000))\n",
    "%timeit [i + 2 for i in a]\n",
    "\n",
    "# Now with numpy\n",
    "\n",
    "import numpy as np\n",
    "\n",
    "a = np.array(a)        # push the data into a numpy array\n",
    "%timeit a + 2\n"
   ]
  },
  {
   "cell_type": "markdown",
   "metadata": {
    "slideshow": {
     "slide_type": "slide"
    }
   },
   "source": [
    "Let's create an array consisting of True and False. Assume we want to count how many times we have a transition from True to False or the other way round. First we will use a classic Python loop"
   ]
  },
  {
   "cell_type": "code",
   "execution_count": 21,
   "metadata": {
    "slideshow": {
     "slide_type": "slide"
    }
   },
   "outputs": [
    {
     "data": {
      "text/plain": [
       "array([False,  True, False, ...,  True, False, False])"
      ]
     },
     "execution_count": 21,
     "metadata": {},
     "output_type": "execute_result"
    }
   ],
   "source": [
    "np.random.seed(123)\n",
    "x = np.random.choice([False, True], size=100000)\n",
    "x"
   ]
  },
  {
   "cell_type": "code",
   "execution_count": 23,
   "metadata": {
    "slideshow": {
     "slide_type": "fragment"
    }
   },
   "outputs": [
    {
     "name": "stdout",
     "output_type": "stream",
     "text": [
      "4.55 ms ± 87.5 µs per loop (mean ± std. dev. of 7 runs, 100 loops each)\n"
     ]
    }
   ],
   "source": [
    "def transitions(x):\n",
    "    count = 0\n",
    "    for i, j in zip(x[:-1], x[1:]):\n",
    "        if j and not i:\n",
    "            count += 1\n",
    "    return count\n",
    "\n",
    "#transitions(x)\n",
    "%timeit transitions(x)"
   ]
  },
  {
   "cell_type": "code",
   "execution_count": 24,
   "metadata": {
    "slideshow": {
     "slide_type": "fragment"
    }
   },
   "outputs": [
    {
     "name": "stdout",
     "output_type": "stream",
     "text": [
      "76.7 µs ± 1.03 µs per loop (mean ± std. dev. of 7 runs, 10000 loops each)\n"
     ]
    }
   ],
   "source": [
    "#np.count_nonzero(x[:-1] < x[1:])\n",
    "%timeit np.count_nonzero(x[:-1] < x[1:])"
   ]
  },
  {
   "cell_type": "code",
   "execution_count": null,
   "metadata": {
    "slideshow": {
     "slide_type": "fragment"
    }
   },
   "outputs": [],
   "source": [
    "# create numpy array\n",
    "import numpy as np\n",
    "\n",
    "# 1d array\n",
    "a = np.array([1, 2, 3, 4 , 5, 6])\n",
    "\n",
    "# 2d array\n",
    "b = np.array([[1, 2, 3,4 , 5, 6],[1, 2, 3,4 , 5, 6]])\n",
    "\n",
    "# 3d array\n",
    "c = np.array([[[1,2,3,4], [5,6,7,8], [9,10,11,12],[13,14,15,16]],[[1,2,3,4], [5,6,7,8], [9,10,11,12],[13,14,15,16]]])"
   ]
  },
  {
   "cell_type": "markdown",
   "metadata": {
    "slideshow": {
     "slide_type": "slide"
    }
   },
   "source": [
    "## Numpy functions to create arrays"
   ]
  },
  {
   "cell_type": "code",
   "execution_count": null,
   "metadata": {
    "slideshow": {
     "slide_type": "fragment"
    }
   },
   "outputs": [],
   "source": [
    "import numpy as np\n",
    "\n",
    "a = np.zeros((2,2))   # Create an array of all zeros\n",
    "print(a)                      # Prints \"[[ 0.  0.]\n",
    "                      #          [ 0.  0.]]\"\n",
    "\n",
    "b = np.ones((1,2))    # Create an array of all ones\n",
    "print(b)                     # Prints \"[[ 1.  1.]]\"\n",
    "\n",
    "c = np.full((2,2), 7)  # Create a constant array\n",
    "print(c)                      # Prints \"[[ 7.  7.]\n",
    "                       #          [ 7.  7.]]\"\n",
    "\n",
    "d = np.eye(2)         # Create a 2x2 identity matrix\n",
    "print(d)                     # Prints \"[[ 1.  0.]\n",
    "                      #          [ 0.  1.]]\"\n",
    "\n",
    "e = np.random.random((2,2))  # Create an array filled with random values\n",
    "print(e)                            # Might print \"[[ 0.91940167  0.08143941]\n",
    "                             #               [ 0.68744134  0.87236687]]\"\n",
    "    \n",
    "f = np.linspace(1, 15, 3)   # The linspace() function returns numbers evenly spaced over a specified intervals.\n",
    "print(f)                           # Say we want 3 evenly spaced points from 1 to 15, we can easily use this.\n",
    "                            # linspace() takes the third argument as the number of datapoints to be created\n",
    "    \n",
    "g= np.arange(3,10)           # Lists the natural numbers from 3 to 9, as the number in the second position is excluded\n",
    "print(g)"
   ]
  },
  {
   "cell_type": "markdown",
   "metadata": {
    "slideshow": {
     "slide_type": "slide"
    }
   },
   "source": [
    "Numpy provides a large set of numeric datatypes that you can use to construct arrays."
   ]
  },
  {
   "cell_type": "code",
   "execution_count": null,
   "metadata": {
    "slideshow": {
     "slide_type": "fragment"
    }
   },
   "outputs": [],
   "source": [
    "import numpy as np\n",
    "\n",
    "x = np.array([1, 2])   # Let numpy choose the datatype\n",
    "x.dtype                \n",
    "\n",
    "x = np.array([1.0, 2.0])   # Let numpy choose the datatype\n",
    "x.dtype \n",
    "\n",
    "x = np.array([1, 2], dtype=\"int8\")  # Select the datatype you want\n",
    "x.dtype  "
   ]
  },
  {
   "cell_type": "markdown",
   "metadata": {
    "slideshow": {
     "slide_type": "slide"
    }
   },
   "source": [
    "## Access and change array element"
   ]
  },
  {
   "cell_type": "markdown",
   "metadata": {
    "slideshow": {
     "slide_type": "fragment"
    }
   },
   "source": [
    "##### Array axis\n",
    "\n",
    "<img src=\"images/axis.png\"  />"
   ]
  },
  {
   "cell_type": "code",
   "execution_count": null,
   "metadata": {
    "slideshow": {
     "slide_type": "slide"
    }
   },
   "outputs": [],
   "source": [
    "a = np.array([1, 2, 3, 4 , 5, 6])\n",
    "print(a)\n",
    "\n",
    "# access and change array elements\n",
    "a[0] = 2\n",
    "a[1] = 100\n",
    "a[2] = -4\n",
    "\n",
    "a[0]\n",
    "a[1]\n",
    "a[2]\n",
    "print(a)"
   ]
  },
  {
   "cell_type": "code",
   "execution_count": null,
   "metadata": {
    "slideshow": {
     "slide_type": "slide"
    }
   },
   "outputs": [],
   "source": [
    "# indexing 2d arrays\n",
    "import numpy as np\n",
    "\n",
    "a = np.array([[1,2,3,4], [5,6,7,8], [9,10,11,12],[13,14,15,16]])\n",
    "a\n",
    "\n",
    "a[0, 1] \n",
    "a[2, 3]\n",
    "\n",
    "\n",
    "# indexing 3d arrays\n",
    "b = np.array([[[1,2,3,4], [5,6,7,8], [9,10,11,12],[13,14,15,16]],[[17,18,19,20], [21,22,23,24], [25,26,27,28],[30,31,32,33]]])\n",
    "b\n",
    "b[0, 1, 1]\n",
    "b[1, 3, 0]\n"
   ]
  },
  {
   "cell_type": "markdown",
   "metadata": {
    "slideshow": {
     "slide_type": "slide"
    }
   },
   "source": [
    "**Integer array indexing**: When slicing, the resulting array will always be a subarray of the original array. In contrast, integer array indexing allows you to construct arbitrary arrays. "
   ]
  },
  {
   "cell_type": "code",
   "execution_count": null,
   "metadata": {
    "slideshow": {
     "slide_type": "fragment"
    }
   },
   "outputs": [],
   "source": [
    "import numpy as np\n",
    "\n",
    "a = np.array([[1,2], [3, 4], [5, 6]])  \n",
    "a\n",
    "# An example of integer array indexing.\n",
    "\n",
    "#a[[0, 1, 2], [0, 1, 0]]  "
   ]
  },
  {
   "cell_type": "markdown",
   "metadata": {
    "slideshow": {
     "slide_type": "slide"
    }
   },
   "source": [
    "\n",
    "\n",
    "**Slicing:** Similar to Python lists, numpy arrays can be sliced. Since arrays may be multidimensional, you must specify a slice for each dimension of the array\n"
   ]
  },
  {
   "cell_type": "code",
   "execution_count": null,
   "metadata": {
    "slideshow": {
     "slide_type": "slide"
    }
   },
   "outputs": [],
   "source": [
    "#slicing\n",
    "a\n",
    "aa = a[:3, 1:3]\n",
    "aa\n",
    "\n",
    "b\n",
    "bb = b[:3, 1:3, 1:]\n",
    "bb"
   ]
  },
  {
   "cell_type": "code",
   "execution_count": null,
   "metadata": {
    "slideshow": {
     "slide_type": "slide"
    }
   },
   "outputs": [],
   "source": [
    "a[0, 1]  \n",
    "aa[0, 0] = 10    #!! Careful changing the slice changes also original data\n",
    "a[0, 1]\n"
   ]
  },
  {
   "cell_type": "code",
   "execution_count": null,
   "metadata": {
    "slideshow": {
     "slide_type": "slide"
    }
   },
   "outputs": [],
   "source": [
    "a = np.array([[1,2,3,4], [5,6,7,8], [9,10,11,12],[13,14,15,16]])\n",
    "\n",
    "# Accessing rows\n",
    "a[1, :]\n",
    "a[1:3, :]\n",
    "a[[1,2], :]\n"
   ]
  },
  {
   "cell_type": "code",
   "execution_count": null,
   "metadata": {
    "slideshow": {
     "slide_type": "slide"
    }
   },
   "outputs": [],
   "source": [
    "# Accessing columns\n",
    "a[:, 1]\n",
    "a[:, 1:3]\n",
    "a[:, [1]]"
   ]
  },
  {
   "cell_type": "code",
   "execution_count": null,
   "metadata": {
    "slideshow": {
     "slide_type": "slide"
    }
   },
   "outputs": [],
   "source": [
    "# indexing with arrays of indices\n",
    "x = np.arange(10)**2                       # creates array with first 10 squares numbers\n",
    "x\n",
    "\n",
    "ind1 = np.array( [ 1,1,3,8,5 ] )           # create array of indices\n",
    "x[ind1]                         \n",
    "\n",
    "ind2 = np.array( [ [ 3, 4], [ 9, 7 ] ] )    # bidimensional array of indices\n",
    "x[ind2]                                  "
   ]
  },
  {
   "cell_type": "markdown",
   "metadata": {
    "slideshow": {
     "slide_type": "slide"
    }
   },
   "source": [
    "**Boolean array indexing:** Boolean array indexing lets you pick out arbitrary elements of an array. You can also create for example boolean mask arrays"
   ]
  },
  {
   "cell_type": "code",
   "execution_count": null,
   "metadata": {
    "slideshow": {
     "slide_type": "fragment"
    }
   },
   "outputs": [],
   "source": [
    "#Boolean array\n",
    "a=np.array( [ 1,1,3,8,5 ] )   \n",
    "boolarray = (a > 2) \n",
    "boolarray\n",
    "\n",
    "e = np.random.random((8,12))\n",
    "mask=np.array([1,1,0,0,1,0,1,1], dtype=bool) \n",
    "e[mask,1]"
   ]
  },
  {
   "cell_type": "markdown",
   "metadata": {
    "slideshow": {
     "slide_type": "slide"
    }
   },
   "source": [
    "<img src=\"images/select.png\"  />"
   ]
  },
  {
   "cell_type": "markdown",
   "metadata": {
    "slideshow": {
     "slide_type": "slide"
    }
   },
   "source": [
    "## Array math\n",
    "\n",
    "Basic mathematical functions operate **elementwise** on arrays. "
   ]
  },
  {
   "cell_type": "code",
   "execution_count": null,
   "metadata": {
    "slideshow": {
     "slide_type": "fragment"
    }
   },
   "outputs": [],
   "source": [
    "arr = np.arange(1,21)          # Numbers from 1 to 20\n",
    "arr\n",
    "arr * arr             # Multiplies each element by itself \n",
    "arr - arr             # Subtracts each element from itself\n",
    "arr + arr             # Adds each element to itself\n",
    "arr / arr             # Divides each element by itself"
   ]
  },
  {
   "cell_type": "markdown",
   "metadata": {
    "slideshow": {
     "slide_type": "slide"
    }
   },
   "source": [
    "Of course they are also available as functions  numpy"
   ]
  },
  {
   "cell_type": "code",
   "execution_count": null,
   "metadata": {
    "slideshow": {
     "slide_type": "fragment"
    }
   },
   "outputs": [],
   "source": [
    "x = np.array([[1,2,3,4],[5,6,7,8]])\n",
    "y = np.array([[7,8,9,10],[11,12,13,14]])\n",
    "\n",
    "# Elementwise sum\n",
    "np.add(x, y)\n",
    "\n",
    "# Elementwise difference\n",
    "np.subtract(x, y)\n",
    "\n",
    "# Elementwise product\n",
    "np.multiply(x, y)\n",
    "\n",
    "# Elementwise division\n",
    "np.divide(x, y)\n",
    "\n",
    "# Elementwise square root\n",
    "np.sqrt(x)"
   ]
  },
  {
   "cell_type": "markdown",
   "metadata": {
    "slideshow": {
     "slide_type": "slide"
    }
   },
   "source": [
    "All array objects have some \"statistical\" methods (e.g. mean,min,max,std)."
   ]
  },
  {
   "cell_type": "code",
   "execution_count": null,
   "metadata": {
    "slideshow": {
     "slide_type": "fragment"
    }
   },
   "outputs": [],
   "source": [
    "x.mean()\n",
    "x.min()\n",
    "x.max()\n",
    "x.std()\n",
    "x.max(axis=0)      #Maximum value of an array row\n",
    "x.cumsum(axis=1)   #Cumulative sum of the elements"
   ]
  },
  {
   "cell_type": "markdown",
   "metadata": {
    "slideshow": {
     "slide_type": "slide"
    }
   },
   "source": [
    "You can also easily calculate the square root of your arrays with np.exp() and np.sqrt(), or calculate the sines or cosines of your array with np.sin() and np.cos(). "
   ]
  },
  {
   "cell_type": "code",
   "execution_count": null,
   "metadata": {
    "slideshow": {
     "slide_type": "fragment"
    }
   },
   "outputs": [],
   "source": [
    "np.exp(x)\n",
    "np.sqrt(x)\n",
    "np.cos(x)\n",
    "np.sin(x)"
   ]
  },
  {
   "cell_type": "markdown",
   "metadata": {
    "slideshow": {
     "slide_type": "slide"
    }
   },
   "source": [
    "Numpy also provides functions to deal with NaN values"
   ]
  },
  {
   "cell_type": "code",
   "execution_count": null,
   "metadata": {
    "slideshow": {
     "slide_type": "fragment"
    }
   },
   "outputs": [],
   "source": [
    "# with nan values\n",
    "a = np.array([[1, 2], [3, np.nan]])\n",
    "a.min()\n",
    "np.nanmin(a)"
   ]
  },
  {
   "cell_type": "code",
   "execution_count": null,
   "metadata": {
    "slideshow": {
     "slide_type": "slide"
    }
   },
   "outputs": [],
   "source": [
    "# using dot function for inner product of vector,\n",
    "# multiply a vector by a matrix and multiply matrices\n",
    "\n",
    "# create vector\n",
    "m = np.array([4,8,54])\n",
    "n = np.array([55, 15,5])\n",
    "\n",
    "m\n",
    "n\n",
    "\n",
    "# vector product\n",
    "m.dot(n)\n",
    "np.dot(m, n)\n"
   ]
  },
  {
   "cell_type": "code",
   "execution_count": null,
   "metadata": {
    "slideshow": {
     "slide_type": "slide"
    }
   },
   "outputs": [],
   "source": [
    "# Arithmetic operations will be done elementwise\n",
    "\n",
    "Temp_in_C=np.array([25.,22.,17.,19.,30.])\n",
    "\n",
    "Temp_in_F = 1.8*Temp_in_C+32\n",
    "\n",
    "Temp_in_F"
   ]
  },
  {
   "cell_type": "markdown",
   "metadata": {},
   "source": [
    "### Array manipulation\n",
    "\n",
    "It is often easier to understand how several numpy functions work by visualizing the results. Therefor we will use\n",
    "the seaborn library"
   ]
  },
  {
   "cell_type": "code",
   "execution_count": null,
   "metadata": {
    "slideshow": {
     "slide_type": "slide"
    }
   },
   "outputs": [],
   "source": [
    "%pip install seaborn"
   ]
  },
  {
   "cell_type": "code",
   "execution_count": null,
   "metadata": {},
   "outputs": [],
   "source": [
    "import seaborn as sns\n",
    "\n",
    "a = np.array([[1,2,3,4],[5,6,7,8],[9,10,12,13]])\n",
    "sns.heatmap(a)"
   ]
  },
  {
   "cell_type": "code",
   "execution_count": null,
   "metadata": {},
   "outputs": [],
   "source": [
    "# Transpose\n",
    "#ns.heatmap(a.T)\n",
    "\n",
    "# Tiling\n",
    "#sns.heatmap(np.tile(a,(2,2)))\n",
    "\n",
    "# Reshaping\n",
    "#sns.heatmap(np.reshape(a, (4,3)))\n",
    "\n",
    "# Concatenate\n",
    "#sns.heatmap(np.concatenate((a,a),axis=1) )\n",
    "\n",
    "# Stack arrays vertically (row-wise) \n",
    "#sns.heatmap(np.vstack((a,a)))   \n",
    "\n",
    "# Stack arrays horizontal\n",
    "#fstack = np.hstack((a,a))                    "
   ]
  },
  {
   "cell_type": "markdown",
   "metadata": {
    "slideshow": {
     "slide_type": "slide"
    }
   },
   "source": [
    "### Broadcasting \n",
    "Broadcasting is a powerful mechanism that allows numpy to work with arrays of different shapes when performing arithmetic operations.You’ve already seen that operations between two NumPy arrays (of equal size) operate element-wise"
   ]
  },
  {
   "cell_type": "code",
   "execution_count": null,
   "metadata": {
    "slideshow": {
     "slide_type": "fragment"
    }
   },
   "outputs": [],
   "source": [
    "a = np.array([1.5, 2.5, 3.5])\n",
    "b = np.array([10., 5., 1.])\n",
    "a / b"
   ]
  },
  {
   "cell_type": "markdown",
   "metadata": {
    "slideshow": {
     "slide_type": "slide"
    }
   },
   "source": [
    "But, what about unequally sized arrays? This is where broadcasting comes in:"
   ]
  },
  {
   "cell_type": "markdown",
   "metadata": {
    "slideshow": {
     "slide_type": "fragment"
    }
   },
   "source": [
    "<img src=\"images/numpy_broadcasting.png\"  />\n",
    "\n",
    "http://scipy-lectures.org/_images/numpy_broadcasting.png"
   ]
  },
  {
   "cell_type": "code",
   "execution_count": null,
   "metadata": {
    "slideshow": {
     "slide_type": "slide"
    }
   },
   "outputs": [],
   "source": [
    "# classic Python\n",
    "import numpy as np\n",
    "\n",
    "x = np.array([[1,2,3,4,5,6,4,3,4,5,6,6,5,4,3,6], [4,5,6,7,6,5,4,3,4,5,6,6,5,4,3,6], [7,8,9,5,6,7,5,3,4,5,6,6,5,4,3,6], [10, 11, 12,2,3,4,5,3,4,5,6,6,5,4,3,6]])\n",
    "v = np.array([1, 0, 1,0,1,1,0,0,0,1,2,2,1,0,0,1])\n",
    "y = np.empty_like(x) \n",
    "\n",
    "\n",
    "for i in range(4): y[i, :] = x[i, :] + v\n",
    "\n",
    "print(y)"
   ]
  },
  {
   "cell_type": "code",
   "execution_count": null,
   "metadata": {
    "slideshow": {
     "slide_type": "fragment"
    }
   },
   "outputs": [],
   "source": [
    "# Numpy\n",
    "import numpy as np\n",
    "\n",
    "x = np.array([[1,2,3,4,5,6,4,3,4,5,6,6,5,4,3,6], [4,5,6,7,6,5,4,3,4,5,6,6,5,4,3,6], [7,8,9,5,6,7,5,3,4,5,6,6,5,4,3,6], [10, 11, 12,2,3,4,5,3,4,5,6,6,5,4,3,6]])\n",
    "v = np.array([1, 0, 1,0,1,1,0,0,0,1,2,2,1,0,0,1])\n",
    "y = x + v  # Add v to each row of x using broadcasting\n",
    "print(y)  "
   ]
  },
  {
   "cell_type": "code",
   "execution_count": null,
   "metadata": {
    "slideshow": {
     "slide_type": "slide"
    }
   },
   "outputs": [],
   "source": [
    "%timeit for i in range(4): y[i, :] = x[i, :] + v\n",
    "%timeit y = x + v "
   ]
  },
  {
   "cell_type": "markdown",
   "metadata": {
    "slideshow": {
     "slide_type": "slide"
    }
   },
   "source": [
    "### Array programming in action: Clustering\n",
    "\n",
    "\n"
   ]
  },
  {
   "cell_type": "markdown",
   "metadata": {
    "slideshow": {
     "slide_type": "fragment"
    }
   },
   "source": [
    "Let’s say that you have a 2d array X and a 2d array of multiple (x, y) “proposed” centroids. Algorithms such as K-Means clustering work by randomly assigning initial “proposed” centroids, then reassigning each data point to its closest centroid. From there, new centroids are computed, with the algorithm converging on a solution once the re-generated labels (an encoding of the centroids) are unchanged between iterations. A part of this iterative process requires computing the Euclidean distance of each point from each centroid:"
   ]
  },
  {
   "cell_type": "markdown",
   "metadata": {
    "slideshow": {
     "slide_type": "slide"
    }
   },
   "source": [
    "<img src=\"images/kmean.png\"  />"
   ]
  },
  {
   "cell_type": "code",
   "execution_count": null,
   "metadata": {
    "slideshow": {
     "slide_type": "slide"
    }
   },
   "outputs": [],
   "source": [
    "%pip install scikit-learn"
   ]
  },
  {
   "cell_type": "code",
   "execution_count": 1,
   "metadata": {
    "slideshow": {
     "slide_type": "fragment"
    }
   },
   "outputs": [
    {
     "data": {
      "text/plain": [
       "array([[-1.12708289e+01,  1.01810797e+01],\n",
       "       [-6.17313215e+00, -1.58815932e+00],\n",
       "       [-3.65463871e+00,  1.03041100e+01],\n",
       "       [-8.51564905e+00,  1.29533902e+00],\n",
       "       [-6.22328080e+00,  3.69407479e-01],\n",
       "       [-7.69082456e+00, -3.19149545e+00],\n",
       "       [ 8.82632494e+00, -5.13774549e+00],\n",
       "       [-8.13925299e+00,  8.50058154e+00],\n",
       "       [ 4.14383960e+00, -3.94740225e+00],\n",
       "       [-5.15870879e+00, -1.84973100e+00],\n",
       "       [ 8.12348081e+00, -7.18997034e+00],\n",
       "       [-6.89669138e+00, -4.33166757e-02],\n",
       "       [-1.05619864e+01,  4.54851411e-01],\n",
       "       [ 6.71310164e+00, -3.87514906e+00],\n",
       "       [ 7.02134940e+00, -2.49721605e+00],\n",
       "       [ 7.62952635e+00, -2.54453620e+00],\n",
       "       [-8.91687529e+00, -6.08996421e-01],\n",
       "       [-7.91283463e+00,  8.97487945e+00],\n",
       "       [-4.97257616e+00, -1.77359330e+00],\n",
       "       [-8.01206072e+00,  1.07465301e+01],\n",
       "       [-4.45643096e+00, -3.82040717e+00],\n",
       "       [ 7.88776057e+00, -1.50040806e+00],\n",
       "       [-6.22774915e+00, -2.07276298e-01],\n",
       "       [-5.89851049e+00, -2.75557230e-01],\n",
       "       [-7.97022764e+00,  9.82680706e+00],\n",
       "       [ 7.25668565e+00, -4.68739544e-01],\n",
       "       [-1.08125380e+01,  1.14858585e+01],\n",
       "       [-6.95126518e+00,  1.17333111e-01],\n",
       "       [-8.89164291e+00,  7.28903077e+00],\n",
       "       [-6.01936522e+00, -2.14824393e+00],\n",
       "       [-7.64246200e+00, -1.15071997e+00],\n",
       "       [-9.03549758e+00,  1.01542923e+01],\n",
       "       [-5.06298406e+00, -1.49723509e+00],\n",
       "       [ 9.29010110e+00, -2.44591969e+00],\n",
       "       [-5.28406573e+00, -1.98000481e+00],\n",
       "       [-7.24928685e+00, -8.43532922e-01],\n",
       "       [-7.04830821e+00,  8.94860246e+00],\n",
       "       [-8.84157520e+00, -4.61291389e-01],\n",
       "       [ 1.05872989e+01, -5.19546215e+00],\n",
       "       [-5.03337352e+00,  3.37682994e-02],\n",
       "       [-7.66646900e+00, -3.14598975e+00],\n",
       "       [-6.98638358e+00, -7.60245708e-01],\n",
       "       [-7.58215588e+00, -4.30875259e+00],\n",
       "       [ 9.74642132e+00, -2.75591127e+00],\n",
       "       [-8.13343259e+00, -2.36834469e+00],\n",
       "       [ 8.22605541e+00, -3.35841715e+00],\n",
       "       [ 8.88212114e+00, -1.49834884e+00],\n",
       "       [-5.61422142e+00,  9.78507520e+00],\n",
       "       [-1.07165232e+01, -3.92901749e+00],\n",
       "       [-3.63313641e+00,  1.03618369e+00],\n",
       "       [-1.03675667e+01,  1.07041653e+01],\n",
       "       [-6.86527328e+00,  1.07398508e+01],\n",
       "       [-7.21626878e+00, -2.85051322e-01],\n",
       "       [ 8.22322722e+00, -2.73753378e+00],\n",
       "       [ 6.69027050e+00, -3.96123464e+00],\n",
       "       [-6.51574333e+00,  1.56364340e+00],\n",
       "       [ 7.75838164e+00, -2.88040317e+00],\n",
       "       [-8.17522256e+00, -1.27795180e+00],\n",
       "       [-5.97497927e+00, -7.77751433e-01],\n",
       "       [-5.65504017e+00, -6.07344444e-01],\n",
       "       [-8.17090801e+00,  8.84912238e+00],\n",
       "       [-7.77828744e+00,  1.16233640e+01],\n",
       "       [-8.89664879e+00,  1.12501866e+01],\n",
       "       [-5.70097659e+00, -3.29852321e+00],\n",
       "       [ 9.94458129e+00, -5.53278868e+00],\n",
       "       [ 8.07854631e+00, -2.43053543e+00],\n",
       "       [-8.19157110e+00, -3.13439373e+00],\n",
       "       [-7.90770219e+00, -7.54671730e-01],\n",
       "       [-9.02125193e+00,  6.35122533e+00],\n",
       "       [ 7.35305303e+00, -4.84852670e+00],\n",
       "       [ 4.14506164e+00, -2.46647408e+00],\n",
       "       [ 9.37523484e+00, -5.01642564e+00],\n",
       "       [-5.05511625e+00, -1.06280681e+00],\n",
       "       [-4.38628304e+00, -8.45710858e-01],\n",
       "       [-7.57225970e+00, -6.01172220e-01],\n",
       "       [-4.02681722e+00,  7.46522122e-01],\n",
       "       [ 9.03159587e+00, -2.32346700e+00],\n",
       "       [-6.81296463e+00, -1.72256136e+00],\n",
       "       [-7.98394959e+00, -9.34086237e-01],\n",
       "       [-5.33551164e+00,  1.46895445e+00],\n",
       "       [-5.26381911e+00, -9.62310319e-01],\n",
       "       [-7.61366250e+00,  7.92235346e+00],\n",
       "       [-6.49624692e+00, -1.87525988e+00],\n",
       "       [-7.09472871e+00, -9.73137617e-01],\n",
       "       [-7.98375893e+00,  1.23619837e+01],\n",
       "       [-4.57999181e+00, -2.06455137e+00],\n",
       "       [-5.49244853e+00,  4.16630460e-02],\n",
       "       [-8.42547233e+00,  1.05482538e+01],\n",
       "       [-4.57937512e+00, -2.20952059e+00],\n",
       "       [-9.40623745e+00,  9.03748479e+00],\n",
       "       [-6.29697266e+00, -1.97505093e+00],\n",
       "       [-5.61118796e+00, -8.01934870e-01],\n",
       "       [-5.00623606e+00,  4.44179747e-01],\n",
       "       [-6.35774723e+00, -1.07506030e+00],\n",
       "       [-8.84047525e+00,  9.08859853e+00],\n",
       "       [-8.80695089e+00, -7.21064665e-01],\n",
       "       [-8.08432733e+00,  1.27935241e+00],\n",
       "       [ 8.49947412e+00, -2.87585532e+00],\n",
       "       [-8.27916419e+00,  1.10532247e+01],\n",
       "       [-1.03337082e+01, -2.18080523e+00],\n",
       "       [-9.68920858e+00,  6.10393143e+00],\n",
       "       [ 7.65718147e+00, -3.55763938e+00],\n",
       "       [ 7.06902107e+00, -3.16958691e+00],\n",
       "       [-3.29290480e+00,  4.52925704e-01],\n",
       "       [ 8.33675978e+00, -4.39862466e+00],\n",
       "       [-7.37274071e+00,  1.00538991e+01],\n",
       "       [ 7.70932863e+00, -3.16496994e+00],\n",
       "       [-5.61636457e+00, -5.57439946e-01],\n",
       "       [-6.60313229e+00,  8.46391831e+00],\n",
       "       [ 7.11244228e+00, -4.61491501e+00],\n",
       "       [-6.42183864e+00, -2.78898070e-01],\n",
       "       [-8.82016407e+00,  9.73868482e+00],\n",
       "       [-6.70289630e+00, -2.34870983e+00],\n",
       "       [-6.95016629e+00, -1.45127212e-01],\n",
       "       [-5.45802297e+00,  3.17552780e+00],\n",
       "       [ 6.23682682e+00, -4.73543504e+00],\n",
       "       [-6.80305371e+00, -2.56029717e+00],\n",
       "       [-9.47743841e+00,  1.06822900e+01],\n",
       "       [-5.20582907e+00, -7.47960162e-01],\n",
       "       [-1.02999722e+01, -3.41972367e+00],\n",
       "       [-5.90300418e+00, -3.22373747e+00],\n",
       "       [-7.05870486e+00,  1.04418748e+00],\n",
       "       [-9.44903499e+00,  9.59158882e+00],\n",
       "       [-6.78060455e+00, -4.16239663e-01],\n",
       "       [-8.61402429e+00,  9.11998724e+00],\n",
       "       [-8.37506148e+00,  1.31917680e-02],\n",
       "       [-1.02071224e+01,  9.69365751e+00],\n",
       "       [-5.49392953e+00, -3.52153484e+00],\n",
       "       [-6.56145718e+00, -2.89527586e+00],\n",
       "       [ 6.36271586e+00, -2.90845036e+00],\n",
       "       [-7.51237882e+00,  8.98491389e+00],\n",
       "       [-5.29964385e+00,  3.90082822e+00],\n",
       "       [-5.76061544e+00, -1.77841182e+00],\n",
       "       [ 9.55971120e+00, -3.62045274e+00],\n",
       "       [-8.70621759e+00,  8.81065594e+00],\n",
       "       [ 5.45154458e+00, -2.61951640e+00],\n",
       "       [-4.32234807e+00, -2.62425566e+00],\n",
       "       [-6.66335730e+00,  1.12329480e+01],\n",
       "       [-5.40742615e+00, -3.01982877e-01],\n",
       "       [-7.61302371e+00,  1.01534434e+01],\n",
       "       [-5.59479833e+00,  8.72235121e+00],\n",
       "       [ 4.57405131e+00, -6.10995343e-01],\n",
       "       [-8.31628618e+00,  1.10855014e-01],\n",
       "       [-6.07172202e+00,  2.00930643e-01],\n",
       "       [-6.03431818e+00, -7.51211044e-01],\n",
       "       [ 6.58303248e+00, -4.54095315e+00],\n",
       "       [ 8.83032812e+00, -3.34039782e+00],\n",
       "       [-1.05484761e+01,  8.91894673e+00],\n",
       "       [-7.05280609e+00, -1.15927451e+00],\n",
       "       [ 5.19559023e+00, -2.37409259e+00],\n",
       "       [-7.85733254e+00, -2.22594309e+00],\n",
       "       [-8.19392887e+00,  7.36944577e+00],\n",
       "       [-9.11055612e+00,  1.32919104e+01],\n",
       "       [-7.77716112e+00, -2.51025188e+00],\n",
       "       [-7.21208629e+00, -3.70396981e+00],\n",
       "       [-8.67705513e+00,  8.13239418e+00],\n",
       "       [ 8.45033210e+00, -5.34654927e+00],\n",
       "       [-6.70726994e+00,  9.06751692e+00],\n",
       "       [-8.07220073e+00,  1.95787020e+00],\n",
       "       [ 8.04646739e+00, -5.33690601e+00],\n",
       "       [ 5.84185991e+00, -3.37080272e+00],\n",
       "       [-1.08543725e+01,  8.34813799e+00],\n",
       "       [-8.10409920e+00,  9.07093378e+00],\n",
       "       [-6.29210067e+00, -1.25499118e+00],\n",
       "       [ 8.82244715e+00, -5.54708953e+00],\n",
       "       [-7.57534695e+00,  3.41176388e-02],\n",
       "       [-6.87881322e+00,  8.21791386e+00],\n",
       "       [ 6.66108217e+00, -2.37059784e+00],\n",
       "       [-7.67346998e+00, -1.83546725e+00],\n",
       "       [ 5.05495194e+00, -6.98148286e+00],\n",
       "       [-7.66855364e+00, -2.71827794e+00],\n",
       "       [-1.04490592e+01, -4.31446465e+00],\n",
       "       [-7.92295437e+00, -2.92292377e+00],\n",
       "       [-6.24174753e+00, -5.20881769e+00],\n",
       "       [ 6.25861163e+00, -9.89851452e-01],\n",
       "       [-5.98638054e+00, -2.12512723e+00],\n",
       "       [-6.54332909e+00, -5.34115880e-01],\n",
       "       [-9.57548297e+00,  8.88706226e+00],\n",
       "       [-6.40588405e+00, -5.23374587e+00],\n",
       "       [-6.03257157e+00, -4.07331863e-01],\n",
       "       [ 6.33387911e+00, -3.31042710e+00],\n",
       "       [-7.28987392e+00,  1.05045807e+01],\n",
       "       [-8.40946909e+00,  1.04999598e+01],\n",
       "       [-1.12258456e+01,  9.95784127e+00],\n",
       "       [ 6.68513012e+00, -5.05980578e+00],\n",
       "       [-4.36431430e+00, -1.72673113e-03],\n",
       "       [ 7.86032875e+00, -1.31911121e+00],\n",
       "       [-6.01079707e+00, -4.36134601e-01],\n",
       "       [-8.52475751e+00,  1.10675195e+01],\n",
       "       [ 7.24597766e+00, -6.15741056e+00],\n",
       "       [-4.50702714e+00,  3.53564123e-01],\n",
       "       [-5.17041403e+00, -3.06839806e+00],\n",
       "       [-5.80047863e+00, -1.13527971e+00],\n",
       "       [-9.04172623e+00,  9.70299481e-01],\n",
       "       [ 9.07976450e+00, -3.43216544e+00],\n",
       "       [-7.76214509e+00,  1.17892811e+01],\n",
       "       [-6.33529077e+00, -8.73631963e-01],\n",
       "       [ 4.42368208e+00, -4.87393498e+00],\n",
       "       [-4.37908620e+00, -2.05957265e+00],\n",
       "       [ 7.85840255e+00, -3.20023635e+00]])"
      ]
     },
     "execution_count": 1,
     "metadata": {},
     "output_type": "execute_result"
    }
   ],
   "source": [
    "from sklearn.datasets import make_blobs\n",
    "import seaborn as sns\n",
    "import matplotlib.pyplot as plt\n",
    "import numpy as np\n",
    "\n",
    "X = make_blobs(n_samples=200, n_features=2, centers=4, cluster_std=1.6)\n",
    "X=X[0]\n",
    "X"
   ]
  },
  {
   "cell_type": "code",
   "execution_count": 2,
   "metadata": {
    "slideshow": {
     "slide_type": "slide"
    }
   },
   "outputs": [
    {
     "data": {
      "text/plain": [
       "<matplotlib.axes._subplots.AxesSubplot at 0x7f14d8c59f10>"
      ]
     },
     "execution_count": 2,
     "metadata": {},
     "output_type": "execute_result"
    },
    {
     "data": {
      "image/png": "[encoded data removed]",
      "text/plain": [
       "<Figure size 432x288 with 1 Axes>"
      ]
     },
     "metadata": {
      "needs_background": "light"
     },
     "output_type": "display_data"
    }
   ],
   "source": [
    "sns.scatterplot(X[:,0],X[:,1])"
   ]
  },
  {
   "cell_type": "markdown",
   "metadata": {
    "slideshow": {
     "slide_type": "slide"
    }
   },
   "source": [
    "First write a function that initializes k centroids by randomly selecting them from the data points"
   ]
  },
  {
   "cell_type": "code",
   "execution_count": 3,
   "metadata": {
    "slideshow": {
     "slide_type": "fragment"
    }
   },
   "outputs": [],
   "source": [
    "def initialize_centroids(points, k):\n",
    "    centroids = points.copy()\n",
    "    np.random.shuffle(centroids)\n",
    "    return centroids[:k]"
   ]
  },
  {
   "cell_type": "code",
   "execution_count": 5,
   "metadata": {
    "slideshow": {
     "slide_type": "fragment"
    }
   },
   "outputs": [
    {
     "data": {
      "text/plain": [
       "array([[ -7.91283463,   8.97487945],\n",
       "       [-10.33370821,  -2.18080523],\n",
       "       [ -9.40623745,   9.03748479]])"
      ]
     },
     "execution_count": 5,
     "metadata": {},
     "output_type": "execute_result"
    }
   ],
   "source": [
    "centroids = initialize_centroids(X, 3)\n",
    "centroids \n"
   ]
  },
  {
   "cell_type": "code",
   "execution_count": 6,
   "metadata": {
    "slideshow": {
     "slide_type": "slide"
    }
   },
   "outputs": [
    {
     "name": "stderr",
     "output_type": "stream",
     "text": [
      "/home/sth02bh/.local/lib/python3.8/site-packages/seaborn/axisgrid.py:1673: UserWarning: The `size` parameter has been renamed to `height`; please update your code.\n",
      "  warnings.warn(msg, UserWarning)\n",
      "/home/sth02bh/.local/lib/python3.8/site-packages/seaborn/axisgrid.py:1742: UserWarning: Tight layout not applied. tight_layout cannot make axes width small enough to accommodate all axes decorations\n",
      "  f.tight_layout()\n"
     ]
    },
    {
     "data": {
      "text/plain": [
       "<matplotlib.collections.PathCollection at 0x7f148930da00>"
      ]
     },
     "execution_count": 6,
     "metadata": {},
     "output_type": "execute_result"
    },
    {
     "data": {
      "image/png": "[encoded data removed]",
      "text/plain": [
       "<Figure size 432x432 with 3 Axes>"
      ]
     },
     "metadata": {
      "needs_background": "light"
     },
     "output_type": "display_data"
    }
   ],
   "source": [
    "# Visualization\n",
    "import matplotlib.pyplot as plt\n",
    "grid = sns.JointGrid(X[:,0],X[:,1], space=0, size=6, ratio=50)\n",
    "grid.plot_joint(plt.scatter, color=\"g\")\n",
    "plt.scatter(centroids[:,0], centroids[:,1], color='r')"
   ]
  },
  {
   "cell_type": "markdown",
   "metadata": {
    "slideshow": {
     "slide_type": "slide"
    }
   },
   "source": [
    "Now let's define a function that returns the closest centroid for each point."
   ]
  },
  {
   "cell_type": "code",
   "execution_count": 7,
   "metadata": {
    "slideshow": {
     "slide_type": "fragment"
    }
   },
   "outputs": [
    {
     "data": {
      "text/plain": [
       "array([2, 1, 0, 1, 1, 1, 1, 0, 1, 1, 1, 1, 1, 1, 1, 1, 1, 0, 1, 0, 1, 1,\n",
       "       1, 1, 0, 1, 2, 1, 2, 1, 1, 2, 1, 1, 1, 1, 0, 1, 1, 1, 1, 1, 1, 1,\n",
       "       1, 1, 1, 0, 1, 1, 2, 0, 1, 1, 1, 1, 1, 1, 1, 1, 0, 0, 2, 1, 1, 1,\n",
       "       1, 1, 2, 1, 1, 1, 1, 1, 1, 1, 1, 1, 1, 1, 1, 0, 1, 1, 0, 1, 1, 0,\n",
       "       1, 2, 1, 1, 1, 1, 2, 1, 1, 1, 0, 1, 2, 1, 1, 1, 1, 0, 1, 1, 0, 1,\n",
       "       1, 2, 1, 1, 0, 1, 1, 2, 1, 1, 1, 1, 2, 1, 0, 1, 2, 1, 1, 1, 0, 0,\n",
       "       1, 1, 2, 1, 1, 0, 1, 0, 0, 1, 1, 1, 1, 1, 1, 2, 1, 1, 1, 0, 2, 1,\n",
       "       1, 0, 1, 0, 1, 1, 1, 2, 0, 1, 1, 1, 0, 1, 1, 1, 1, 1, 1, 1, 1, 1,\n",
       "       1, 2, 1, 1, 1, 0, 0, 2, 1, 1, 1, 1, 0, 1, 1, 1, 1, 1, 1, 0, 1, 1,\n",
       "       1, 1])"
      ]
     },
     "execution_count": 7,
     "metadata": {},
     "output_type": "execute_result"
    }
   ],
   "source": [
    "def closest_centroid(X, centroids):\n",
    "    distances = np.sqrt(((X - centroids[:, np.newaxis])**2).sum(axis=2))\n",
    "    return np.argmin(distances, axis=0)\n",
    "\n",
    "closest = closest_centroid(X, centroids)\n",
    "closest"
   ]
  },
  {
   "cell_type": "code",
   "execution_count": 8,
   "metadata": {
    "slideshow": {
     "slide_type": "slide"
    }
   },
   "outputs": [],
   "source": [
    "def move_centroids(X, closest, centroids):\n",
    "    return np.array([X[closest==k].mean(axis=0) for k in range(centroids.shape[0])])"
   ]
  },
  {
   "cell_type": "code",
   "execution_count": 13,
   "metadata": {
    "slideshow": {
     "slide_type": "fragment"
    }
   },
   "outputs": [],
   "source": [
    "centroids = initialize_centroids(X, 3)"
   ]
  },
  {
   "cell_type": "code",
   "execution_count": 17,
   "metadata": {
    "slideshow": {
     "slide_type": "fragment"
    }
   },
   "outputs": [
    {
     "name": "stderr",
     "output_type": "stream",
     "text": [
      "/home/sth02bh/.local/lib/python3.8/site-packages/seaborn/axisgrid.py:1673: UserWarning: The `size` parameter has been renamed to `height`; please update your code.\n",
      "  warnings.warn(msg, UserWarning)\n",
      "/home/sth02bh/.local/lib/python3.8/site-packages/seaborn/axisgrid.py:1742: UserWarning: Tight layout not applied. tight_layout cannot make axes width small enough to accommodate all axes decorations\n",
      "  f.tight_layout()\n"
     ]
    },
    {
     "data": {
      "image/png": "[encoded data removed]",
      "text/plain": [
       "<Figure size 432x432 with 3 Axes>"
      ]
     },
     "metadata": {
      "needs_background": "light"
     },
     "output_type": "display_data"
    },
    {
     "data": {
      "image/png": "[encoded data removed]",
      "text/plain": [
       "<Figure size 432x432 with 3 Axes>"
      ]
     },
     "metadata": {
      "needs_background": "light"
     },
     "output_type": "display_data"
    },
    {
     "data": {
      "image/png": "[encoded data removed]",
      "text/plain": [
       "<Figure size 432x432 with 3 Axes>"
      ]
     },
     "metadata": {
      "needs_background": "light"
     },
     "output_type": "display_data"
    },
    {
     "data": {
      "image/png": "[encoded data removed]",
      "text/plain": [
       "<Figure size 432x432 with 3 Axes>"
      ]
     },
     "metadata": {
      "needs_background": "light"
     },
     "output_type": "display_data"
    },
    {
     "data": {
      "image/png": "[encoded data removed]",
      "text/plain": [
       "<Figure size 432x432 with 3 Axes>"
      ]
     },
     "metadata": {
      "needs_background": "light"
     },
     "output_type": "display_data"
    },
    {
     "data": {
      "image/png": "[encoded data removed]",
      "text/plain": [
       "<Figure size 432x432 with 3 Axes>"
      ]
     },
     "metadata": {
      "needs_background": "light"
     },
     "output_type": "display_data"
    },
    {
     "data": {
      "image/png": "[encoded data removed]",
      "text/plain": [
       "<Figure size 432x432 with 3 Axes>"
      ]
     },
     "metadata": {
      "needs_background": "light"
     },
     "output_type": "display_data"
    },
    {
     "data": {
      "image/png": "[encoded data removed]",
      "text/plain": [
       "<Figure size 432x432 with 3 Axes>"
      ]
     },
     "metadata": {
      "needs_background": "light"
     },
     "output_type": "display_data"
    },
    {
     "data": {
      "image/png": "[encoded data removed]",
      "text/plain": [
       "<Figure size 432x432 with 3 Axes>"
      ]
     },
     "metadata": {
      "needs_background": "light"
     },
     "output_type": "display_data"
    }
   ],
   "source": [
    "closest = closest_centroid(X, centroids)\n",
    "centroids = move_centroids(X, closest, centroids)\n",
    "\n",
    "grid = sns.JointGrid(X[:,0],X[:,1], space=0, size=6, ratio=50)\n",
    "grid.plot_joint(plt.scatter, color=\"g\")\n",
    "plt.scatter(centroids[:,0], centroids[:,1], color='r')"
   ]
  },
  {
   "cell_type": "markdown",
   "metadata": {
    "slideshow": {
     "slide_type": "slide"
    }
   },
   "source": [
    "### Excercise 6\n",
    "\n",
    "- Create a null vector of size 10\n",
    "- Create a random sorted vector of size 10\n",
    "- Create a 3x3 matrix with values ranging from 0 to 8\n",
    "- Create a 5x5 array with 2 on the border and 0 inside \n",
    "- Create a 8x8 matrix and fill it with a checkerboard pattern\n",
    "- Create a random array and subtract the mean of each row of a matrix \n",
    "\n",
    "\n",
    "Additional:\n",
    "- Consider a random 10x2 matrix representing cartesian coordinates, convert them to polar coordinate\n",
    "- Consider a random vector with shape (100,2) representing coordinates, find point by point distances "
   ]
  },
  {
   "cell_type": "markdown",
   "metadata": {
    "slideshow": {
     "slide_type": "slide"
    }
   },
   "source": [
    "## Powerful pandas\n",
    "\n",
    "<img src=\"images/pandas.png\"  width=300 align=right />\n",
    "\n",
    "\n",
    "Pandas is a very powerful and flexible tool for data munging and preparing. \n",
    "\n",
    "Pandas deals with 3 data structures:\n",
    "- **Series**: homogeneous 1-dimensional array\n",
    "- **DataFrames**: heterogenous 2-dimensional array\n",
    "- **Panel**: heterogenous 3-dimensional array\n"
   ]
  },
  {
   "cell_type": "markdown",
   "metadata": {
    "slideshow": {
     "slide_type": "fragment"
    }
   },
   "source": [
    "<img src=\"images/dataframe.png\" width=600   />"
   ]
  },
  {
   "cell_type": "markdown",
   "metadata": {
    "slideshow": {
     "slide_type": "slide"
    }
   },
   "source": [
    "## Create a pandas series"
   ]
  },
  {
   "cell_type": "code",
   "execution_count": null,
   "metadata": {
    "slideshow": {
     "slide_type": "fragment"
    }
   },
   "outputs": [],
   "source": [
    "import pandas as pd\n",
    "import numpy as np\n",
    "\n",
    "\n",
    "data = np.array(['Dave','Jim','Rosalee','Alex','Lucy','Anna'])\n",
    "s = pd.Series(data)\n",
    "s\n",
    "\n",
    "\n",
    "# You can also create a series from dict\n",
    "data = {'Dave' : 0., 'Jim' : 1., 'Rosalee' : 2.,'Alex': 3., 'Lucy': 4., 'Anna':5.}\n",
    "s = pd.Series(data,index=['Dave','Jim','Rosalee','Alex','Lucy','Anna'])\n",
    "s\n",
    "\n",
    "#You can access the data from a series with the postiion\n",
    "s = pd.Series([0.,1.,2.,3.,4.,5.,],index=['Dave','Jim','Rosalee','Alex','Lucy','Anna'])\n",
    "type(s)"
   ]
  },
  {
   "cell_type": "markdown",
   "metadata": {
    "slideshow": {
     "slide_type": "slide"
    }
   },
   "source": [
    "## Accessing pandas series"
   ]
  },
  {
   "cell_type": "code",
   "execution_count": null,
   "metadata": {
    "slideshow": {
     "slide_type": "fragment"
    }
   },
   "outputs": [],
   "source": [
    "##retrieve the first element\n",
    "s[0]\n",
    "\n",
    "#retrieve the first 2 element\n",
    "s[:2]\n",
    "\n",
    "\n",
    "##retrieve the last 2 element\n",
    "s[-2:]\n",
    "\n",
    "# And you can access data from a series using an index\n",
    "s['Dave']\n",
    "\n",
    "\n",
    "# multiple indices\n",
    "s[['Dave', 'Alex', 'Lucy']]"
   ]
  },
  {
   "cell_type": "markdown",
   "metadata": {
    "slideshow": {
     "slide_type": "slide"
    }
   },
   "source": [
    "## Pandas DataFrame"
   ]
  },
  {
   "cell_type": "code",
   "execution_count": null,
   "metadata": {
    "slideshow": {
     "slide_type": "fragment"
    }
   },
   "outputs": [],
   "source": [
    "data = [['Dave',35],['Jim',40],['Rosalee',37],['Alex',24],['Lucy',28],['Anna',45]]\n",
    "df = pd.DataFrame(data,columns=['Name','Age'])\n",
    "df\n",
    "\n",
    "# changing data type with dtype\n",
    "\n",
    "data = [['Dave',35],['Jim',40],['Rosalee',37],['Alex',24],['Lucy',28],['Anna',45]]\n",
    "df = pd.DataFrame(data,columns=['Name','Age'],dtype=\"float\")\n",
    "df\n",
    "\n",
    "# you can also combine multiple dictionaries with different data types\n",
    "\n",
    "df2 = pd.DataFrame({ 'Number' : np.array([3] * 6,dtype='int32'),\n",
    "                    'Time' : pd.Timestamp.today(),\n",
    "                    'Name' : pd.Series(['Dave','Jim','Rosalee','Alex','Lucy','Anna'], index=list(range(6))),\n",
    "                    'Age' : np.array([25,40,37,24,28,45]),\n",
    "                    'Sex' : pd.Categorical([\"male\",\"male\",\"female\",\"male\",\"female\",\"female\"])})\n",
    "df2"
   ]
  },
  {
   "cell_type": "code",
   "execution_count": null,
   "metadata": {
    "slideshow": {
     "slide_type": "slide"
    }
   },
   "outputs": [],
   "source": [
    "pd.DataFrame({\"a\" : [4 ,5, 6], \"b\" : [7, 8, 9], \"c\" : [10, 11, 12]},    index = pd.MultiIndex.from_tuples([('d',1),('d',2),('e',2)],names=['n','v']))"
   ]
  },
  {
   "cell_type": "markdown",
   "metadata": {
    "slideshow": {
     "slide_type": "slide"
    }
   },
   "source": [
    "## Reshaping data"
   ]
  },
  {
   "cell_type": "code",
   "execution_count": null,
   "metadata": {
    "slideshow": {
     "slide_type": "fragment"
    }
   },
   "outputs": [],
   "source": [
    "df= pd.DataFrame([[4, 7, 10],[5, 8, 11],[6, 9, 12]], index=[1, 2, 3], columns=['a', 'b', 'c'])\n",
    "df\n",
    "\n",
    "df = pd.melt(df)\n",
    "df\n",
    "\n",
    "df2 = pd.DataFrame({ 'Number' : np.array([3] * 6,dtype='int32'),\n",
    "                    'Time' : pd.Timestamp.today(),\n",
    "                    'Name' : pd.Series(['Dave','Jim','Rosalee','Alex','Lucy','Anna'], index=list(range(6))),\n",
    "                    'Age' : np.array([25,40,37,24,28,45]),\n",
    "                    'Sex' : pd.Categorical([\"male\",\"male\",\"female\",\"male\",\"female\",\"female\"]),\n",
    "                    'Grade' : np.array([2,4,3,2,2,5]),\n",
    "                   })\n",
    "df3 = pd.pivot_table(df2,values=\"Age\", index='Sex', columns='Grade')\n",
    "\n",
    "df3"
   ]
  },
  {
   "cell_type": "code",
   "execution_count": null,
   "metadata": {
    "slideshow": {
     "slide_type": "slide"
    }
   },
   "outputs": [],
   "source": [
    "df1= pd.DataFrame([[4, 7, 10],[5, 8, 11],[6, 9, 12]], index=[1, 2, 3], columns=['a', 'b', 'c'])\n",
    "df2= pd.DataFrame([[4, 7, 10],[5, 8, 11],[6, 9, 12]], index=[1, 2, 3], columns=['d', 'e', 'f'])\n",
    "\n",
    "pd.concat([df1,df2])\n",
    "pd.concat([df1,df2], axis=1)"
   ]
  },
  {
   "cell_type": "markdown",
   "metadata": {
    "slideshow": {
     "slide_type": "slide"
    }
   },
   "source": [
    "## Working with actual data"
   ]
  },
  {
   "cell_type": "markdown",
   "metadata": {
    "slideshow": {
     "slide_type": "fragment"
    }
   },
   "source": [
    "##### The Berkeley Earth Surface Temperature Data Set\n",
    "\n",
    "The Berkeley Earth Surface Temperature Study combines 1.6 billion temperature reports from 16 pre-existing archives. It is nicely packaged and allows for slicing into interesting subsets (for example by country). They publish the source data and the code for the transformations they applied. They also use methods that allow weather observations from shorter time series to be included, meaning fewer observations need to be thrown away.\n",
    "\n",
    "Data\n",
    "\n",
    "- Global Land and Ocean-and-Land Temperatures (GlobalTemperatures.csv)\n",
    "- Global Average Land Temperature by Country (GlobalLandTemperaturesByCountry.csv)\n",
    "- Global Average Land Temperature by State (GlobalLandTemperaturesByState.csv)\n",
    "- Global Land Temperatures By Major City (GlobalLandTemperaturesByMajorCity.csv)\n",
    "- Global Land Temperatures By City (GlobalLandTemperaturesByCity.csv)"
   ]
  },
  {
   "cell_type": "markdown",
   "metadata": {
    "slideshow": {
     "slide_type": "slide"
    }
   },
   "source": [
    "## Reading data into pandas"
   ]
  },
  {
   "cell_type": "code",
   "execution_count": 16,
   "metadata": {
    "slideshow": {
     "slide_type": "fragment"
    }
   },
   "outputs": [
    {
     "data": {
      "text/html": [
       "<div>\n",
       "<style scoped>\n",
       "    .dataframe tbody tr th:only-of-type {\n",
       "        vertical-align: middle;\n",
       "    }\n",
       "\n",
       "    .dataframe tbody tr th {\n",
       "        vertical-align: top;\n",
       "    }\n",
       "\n",
       "    .dataframe thead th {\n",
       "        text-align: right;\n",
       "    }\n",
       "</style>\n",
       "<table border=\"1\" class=\"dataframe\">\n",
       "  <thead>\n",
       "    <tr style=\"text-align: right;\">\n",
       "      <th></th>\n",
       "      <th>dt</th>\n",
       "      <th>AverageTemperature</th>\n",
       "      <th>AverageTemperatureUncertainty</th>\n",
       "      <th>Country</th>\n",
       "    </tr>\n",
       "  </thead>\n",
       "  <tbody>\n",
       "    <tr>\n",
       "      <th>0</th>\n",
       "      <td>1743-11-01</td>\n",
       "      <td>4.384</td>\n",
       "      <td>2.294</td>\n",
       "      <td>Åland</td>\n",
       "    </tr>\n",
       "    <tr>\n",
       "      <th>1</th>\n",
       "      <td>1743-12-01</td>\n",
       "      <td>NaN</td>\n",
       "      <td>NaN</td>\n",
       "      <td>Åland</td>\n",
       "    </tr>\n",
       "    <tr>\n",
       "      <th>2</th>\n",
       "      <td>1744-01-01</td>\n",
       "      <td>NaN</td>\n",
       "      <td>NaN</td>\n",
       "      <td>Åland</td>\n",
       "    </tr>\n",
       "    <tr>\n",
       "      <th>3</th>\n",
       "      <td>1744-02-01</td>\n",
       "      <td>NaN</td>\n",
       "      <td>NaN</td>\n",
       "      <td>Åland</td>\n",
       "    </tr>\n",
       "    <tr>\n",
       "      <th>4</th>\n",
       "      <td>1744-03-01</td>\n",
       "      <td>NaN</td>\n",
       "      <td>NaN</td>\n",
       "      <td>Åland</td>\n",
       "    </tr>\n",
       "    <tr>\n",
       "      <th>...</th>\n",
       "      <td>...</td>\n",
       "      <td>...</td>\n",
       "      <td>...</td>\n",
       "      <td>...</td>\n",
       "    </tr>\n",
       "    <tr>\n",
       "      <th>577457</th>\n",
       "      <td>2013-05-01</td>\n",
       "      <td>19.059</td>\n",
       "      <td>1.022</td>\n",
       "      <td>Zimbabwe</td>\n",
       "    </tr>\n",
       "    <tr>\n",
       "      <th>577458</th>\n",
       "      <td>2013-06-01</td>\n",
       "      <td>17.613</td>\n",
       "      <td>0.473</td>\n",
       "      <td>Zimbabwe</td>\n",
       "    </tr>\n",
       "    <tr>\n",
       "      <th>577459</th>\n",
       "      <td>2013-07-01</td>\n",
       "      <td>17.000</td>\n",
       "      <td>0.453</td>\n",
       "      <td>Zimbabwe</td>\n",
       "    </tr>\n",
       "    <tr>\n",
       "      <th>577460</th>\n",
       "      <td>2013-08-01</td>\n",
       "      <td>19.759</td>\n",
       "      <td>0.717</td>\n",
       "      <td>Zimbabwe</td>\n",
       "    </tr>\n",
       "    <tr>\n",
       "      <th>577461</th>\n",
       "      <td>2013-09-01</td>\n",
       "      <td>NaN</td>\n",
       "      <td>NaN</td>\n",
       "      <td>Zimbabwe</td>\n",
       "    </tr>\n",
       "  </tbody>\n",
       "</table>\n",
       "<p>577462 rows × 4 columns</p>\n",
       "</div>"
      ],
      "text/plain": [
       "                dt  AverageTemperature  AverageTemperatureUncertainty  \\\n",
       "0       1743-11-01               4.384                          2.294   \n",
       "1       1743-12-01                 NaN                            NaN   \n",
       "2       1744-01-01                 NaN                            NaN   \n",
       "3       1744-02-01                 NaN                            NaN   \n",
       "4       1744-03-01                 NaN                            NaN   \n",
       "...            ...                 ...                            ...   \n",
       "577457  2013-05-01              19.059                          1.022   \n",
       "577458  2013-06-01              17.613                          0.473   \n",
       "577459  2013-07-01              17.000                          0.453   \n",
       "577460  2013-08-01              19.759                          0.717   \n",
       "577461  2013-09-01                 NaN                            NaN   \n",
       "\n",
       "         Country  \n",
       "0          Åland  \n",
       "1          Åland  \n",
       "2          Åland  \n",
       "3          Åland  \n",
       "4          Åland  \n",
       "...          ...  \n",
       "577457  Zimbabwe  \n",
       "577458  Zimbabwe  \n",
       "577459  Zimbabwe  \n",
       "577460  Zimbabwe  \n",
       "577461  Zimbabwe  \n",
       "\n",
       "[577462 rows x 4 columns]"
      ]
     },
     "execution_count": 16,
     "metadata": {},
     "output_type": "execute_result"
    }
   ],
   "source": [
    "import os\n",
    "import numpy as np\n",
    "import pandas as pd\n",
    "\n",
    "# os.chdir(\"/home/steve/SpatialPythonCourse2020\") # set your working directory first, e.g.\n",
    "# Hint: [Control + L] in your working directory to jump to the directory link\n",
    "\n",
    "data = './Data/non-spatial/GlobalLandTemperatures/GlobalLandTemperaturesByCountry.csv'\n",
    "\n",
    "df = pd.read_csv(data, sep=',')\n",
    "df"
   ]
  },
  {
   "cell_type": "markdown",
   "metadata": {
    "slideshow": {
     "slide_type": "slide"
    }
   },
   "source": [
    "## Basic information"
   ]
  },
  {
   "cell_type": "markdown",
   "metadata": {
    "slideshow": {
     "slide_type": "fragment"
    }
   },
   "source": [
    "- df.shape:            (rows,columns)        \n",
    "- df.index:           Describe index \n",
    "- df.columns:          Describe DataFrame columns\n",
    "- df.info():           Info on DataFrame\n",
    "- df.count():          Number of non-NA value"
   ]
  },
  {
   "cell_type": "markdown",
   "metadata": {
    "slideshow": {
     "slide_type": "slide"
    }
   },
   "source": [
    "Pandas provides a lot of nice functions which make data manipulation is quite easy. Tab completion for column names (as well as public attributes) is automatically enabled.\n",
    "Just use: df.<TAB>"
   ]
  },
  {
   "cell_type": "code",
   "execution_count": null,
   "metadata": {
    "slideshow": {
     "slide_type": "fragment"
    }
   },
   "outputs": [],
   "source": [
    "df.head()              # show data head"
   ]
  },
  {
   "cell_type": "code",
   "execution_count": null,
   "metadata": {
    "slideshow": {
     "slide_type": "fragment"
    }
   },
   "outputs": [],
   "source": [
    "df.tail()               # show data tail"
   ]
  },
  {
   "cell_type": "code",
   "execution_count": null,
   "metadata": {
    "slideshow": {
     "slide_type": "slide"
    }
   },
   "outputs": [],
   "source": [
    "df.index               # display index"
   ]
  },
  {
   "cell_type": "code",
   "execution_count": null,
   "metadata": {
    "slideshow": {
     "slide_type": "fragment"
    }
   },
   "outputs": [],
   "source": [
    "df.columns             # display column names"
   ]
  },
  {
   "cell_type": "code",
   "execution_count": null,
   "metadata": {
    "slideshow": {
     "slide_type": "fragment"
    }
   },
   "outputs": [],
   "source": [
    "df.values              # display underlying numpy data"
   ]
  },
  {
   "cell_type": "code",
   "execution_count": null,
   "metadata": {
    "slideshow": {
     "slide_type": "slide"
    }
   },
   "outputs": [],
   "source": [
    "sort = df.sort_values(by='AverageTemperature')\n",
    "sort.head()"
   ]
  },
  {
   "cell_type": "markdown",
   "metadata": {
    "slideshow": {
     "slide_type": "slide"
    }
   },
   "source": [
    "## Accessing data"
   ]
  },
  {
   "cell_type": "markdown",
   "metadata": {
    "slideshow": {
     "slide_type": "fragment"
    }
   },
   "source": [
    "For selecting data parts we can use the classic Python/Numpy indexing operators [] and attribute operator. Additionally pandas also provides optimized methods"
   ]
  },
  {
   "cell_type": "code",
   "execution_count": null,
   "metadata": {
    "scrolled": true,
    "slideshow": {
     "slide_type": "fragment"
    }
   },
   "outputs": [],
   "source": [
    "# You can access an index directly as an attribute:\n",
    "print(df.dt)\n",
    "# or\n",
    "print(df['dt'])"
   ]
  },
  {
   "cell_type": "code",
   "execution_count": null,
   "metadata": {
    "slideshow": {
     "slide_type": "fragment"
    }
   },
   "outputs": [],
   "source": [
    "# slicing inside of [] slices the rows\n",
    "df[:5]\n",
    "df[::-1]"
   ]
  },
  {
   "cell_type": "code",
   "execution_count": null,
   "metadata": {
    "slideshow": {
     "slide_type": "slide"
    }
   },
   "outputs": [],
   "source": [
    "df.iloc[0]         # select first row\n",
    "df.iloc[1]         # select second row\n",
    "df.iloc[-1]        # select last row\n",
    "df.iloc[:,0]       # select first column\n",
    "df.iloc[:,1]       # select second column\n",
    "df.loc[[0],['Country','AverageTemperature']] # select single value by row number and column label"
   ]
  },
  {
   "cell_type": "code",
   "execution_count": null,
   "metadata": {
    "slideshow": {
     "slide_type": "slide"
    }
   },
   "outputs": [],
   "source": [
    "# Select by condition\n",
    "df_BFA = df.loc[df['Country'] == 'Burkina Faso']\n",
    "df_BFA.head()"
   ]
  },
  {
   "cell_type": "code",
   "execution_count": null,
   "metadata": {
    "slideshow": {
     "slide_type": "fragment"
    }
   },
   "outputs": [],
   "source": [
    "# Select by multiple condition\n",
    "dfsub = df.loc[(df['Country'] == 'Burkina Faso') & (df['dt'] >= '1990-01-01')]\n",
    "dfsub.head()"
   ]
  },
  {
   "cell_type": "code",
   "execution_count": null,
   "metadata": {
    "slideshow": {
     "slide_type": "slide"
    }
   },
   "outputs": [],
   "source": [
    "# dropping and adding columns\n",
    "\n",
    "country = df['Country'] \n",
    "df2 =df.drop('Country', axis=1)\n",
    "df2.head(3)\n",
    "\n",
    "df2['Country'] = country\n",
    "df2.head(3)"
   ]
  },
  {
   "cell_type": "markdown",
   "metadata": {
    "slideshow": {
     "slide_type": "slide"
    }
   },
   "source": [
    "## Advanced indexing"
   ]
  },
  {
   "cell_type": "code",
   "execution_count": null,
   "metadata": {
    "slideshow": {
     "slide_type": "fragment"
    }
   },
   "outputs": [],
   "source": [
    "df.loc[:,df.isnull().any()]              #Select cols with NaN\n",
    "df.loc[:,df.notnull().all()]             #Select cols without NaN  Indexing With isin"
   ]
  },
  {
   "cell_type": "code",
   "execution_count": null,
   "metadata": {
    "slideshow": {
     "slide_type": "fragment"
    }
   },
   "outputs": [],
   "source": [
    "df.where(df['AverageTemperature'] > 0) "
   ]
  },
  {
   "cell_type": "markdown",
   "metadata": {
    "slideshow": {
     "slide_type": "slide"
    }
   },
   "source": [
    "## Data manipulation"
   ]
  },
  {
   "cell_type": "markdown",
   "metadata": {
    "slideshow": {
     "slide_type": "fragment"
    }
   },
   "source": [
    "Renaming the columns and the row index"
   ]
  },
  {
   "cell_type": "code",
   "execution_count": null,
   "metadata": {
    "slideshow": {
     "slide_type": "fragment"
    }
   },
   "outputs": [],
   "source": [
    "# rename columns\n",
    "df.columns = ['dt','AverageTemperature', 'Uncertainty', 'Country']\n",
    "df.head()\n",
    "df0= df.rename(columns = {'dt':'datetime'})\n",
    "df0.head()\n",
    "\n",
    "# rename rows\n",
    "df1 = df0.set_index('datetime')                   \n",
    "df1.head()\n",
    "df2 = df1.reset_index()            \n",
    "df2.head()"
   ]
  },
  {
   "cell_type": "code",
   "execution_count": null,
   "metadata": {
    "slideshow": {
     "slide_type": "slide"
    }
   },
   "outputs": [],
   "source": [
    "# Sorting values\n",
    "df.sort_values('AverageTemperature')                   #Order rows by values of a column (low to high).\n",
    "df.sort_values('AverageTemperature', ascending=False)   #Order rows by values of a column (high to low).\n",
    "df2 = df.set_index('dt')\n",
    "df2.sort_index()"
   ]
  },
  {
   "cell_type": "markdown",
   "metadata": {
    "slideshow": {
     "slide_type": "slide"
    }
   },
   "source": [
    "## Summarize Data"
   ]
  },
  {
   "cell_type": "code",
   "execution_count": null,
   "metadata": {
    "slideshow": {
     "slide_type": "fragment"
    }
   },
   "outputs": [],
   "source": [
    "len(df)                 # of rows in DataFrame.\n",
    "df['Country'].value_counts()  # Count number of rows with each unique value of variable\n",
    "df['Country'].nunique()       # of distinct values in a column"
   ]
  },
  {
   "cell_type": "markdown",
   "metadata": {
    "slideshow": {
     "slide_type": "slide"
    }
   },
   "source": [
    "Pandas provides a large set of summary functions that operate on different kinds of pandas object"
   ]
  },
  {
   "cell_type": "markdown",
   "metadata": {
    "slideshow": {
     "slide_type": "fragment"
    }
   },
   "source": [
    "- **sum():**                 Sum values of each object.\n",
    "- **count():**               Count non-NA/null values of each object.\n",
    "- **median():**              Median value of each object.\n",
    "- **quantile([0.25,0.75]):** Quantiles of each object.\n",
    "- **apply(function):** Apply function to each object.\n",
    "- **min():** Minimum value in each object.\n",
    "- **max():** maximum value in each object.\n",
    "- **mean():** Mean value of each object.\n",
    "- **var():** Variance of each object.\n",
    "- **std():** Standard deviation of each object"
   ]
  },
  {
   "cell_type": "markdown",
   "metadata": {
    "slideshow": {
     "slide_type": "slide"
    }
   },
   "source": [
    "## Handling Missing Data"
   ]
  },
  {
   "cell_type": "code",
   "execution_count": null,
   "metadata": {
    "slideshow": {
     "slide_type": "fragment"
    }
   },
   "outputs": [],
   "source": [
    "df.head()\n",
    "df2 = df.dropna() #Drop rows with any column having NA/null \n",
    "df2.head()\n",
    "df3 = df.fillna(-999) # fill na values\n",
    "df3.head()"
   ]
  },
  {
   "cell_type": "markdown",
   "metadata": {
    "slideshow": {
     "slide_type": "slide"
    }
   },
   "source": [
    "## Group Data"
   ]
  },
  {
   "cell_type": "code",
   "execution_count": null,
   "metadata": {
    "slideshow": {
     "slide_type": "fragment"
    }
   },
   "outputs": [],
   "source": [
    "df.groupby(by=\"Country\")      #group by values in column \n",
    "df.groupby(['dt'])['AverageTemperature'].mean()"
   ]
  },
  {
   "cell_type": "markdown",
   "metadata": {
    "slideshow": {
     "slide_type": "slide"
    }
   },
   "source": [
    "## Apply functions"
   ]
  },
  {
   "cell_type": "code",
   "execution_count": null,
   "metadata": {
    "slideshow": {
     "slide_type": "fragment"
    }
   },
   "outputs": [],
   "source": [
    "# Apply functions to dataframe\n",
    "def cel2fahr(x):\n",
    "    \n",
    "    x = 1.8 * x + 32\n",
    "    return(x)    \n",
    "\n",
    "def fahr2cel(x):\n",
    "    \n",
    "    x = (x - 32) / 1.8\n",
    "    return(x)"
   ]
  },
  {
   "cell_type": "code",
   "execution_count": null,
   "metadata": {
    "slideshow": {
     "slide_type": "fragment"
    }
   },
   "outputs": [],
   "source": [
    "df[\"AverageTemperatureFahrenheit\"] = df[\"AverageTemperature\"].apply(cel2fahr)\n",
    "\n",
    "df.head()"
   ]
  },
  {
   "cell_type": "code",
   "execution_count": null,
   "metadata": {
    "slideshow": {
     "slide_type": "slide"
    }
   },
   "outputs": [],
   "source": [
    "# Writing pandas data to file\n",
    "df.to_csv(\"Data/non-spatial/GlobalLandTemperatures/GSTbyCountry_annual.csv\")"
   ]
  },
  {
   "cell_type": "markdown",
   "metadata": {
    "slideshow": {
     "slide_type": "slide"
    }
   },
   "source": [
    "## Exercise 7\n",
    "\n",
    "- Import ***GlobalLandTemperaturesByMajorCity.csv***\n",
    "- Look at the first 5 entries\n",
    "- Print the name of all the columns\n",
    "- What is the number of observations in the dataset?\n",
    "-  Display a summary of the basic information about this DataFrame and its data.\n",
    "- Select just the 'AverageTemperature' and 'City' columns from the DataFrame\n",
    "- Count the number of cities in the dataset\n",
    "- Calculate the mean temperature for each city over all years. Sort the values in the 'AverageTemperature' - in decending order\n",
    "- Calculate the maximal AverageTemperature in european cities between 1990 and 2013"
   ]
  },
  {
   "cell_type": "markdown",
   "metadata": {
    "slideshow": {
     "slide_type": "slide"
    }
   },
   "source": [
    " ## Visualize data with python\n",
    "\n",
    "Producing high-quality graphics is one of the main reasons for doing statistical computing. For this purpose, we will use the matplotlib library, which is probably the most used python library for 2D-graphics. Matplotlib is the \"grandfather\" library of data visualization with Python. It was created by John Hunter. Matplotlib allows a quick data visualization and the creation of publication-quality figures.\n",
    "Import matplotlib's pyplot module as well as numpy and pandas.\n",
    "(Pyplot is a module in the matplotlib package. The module allows you to implicitly and automatically create figures and axes)"
   ]
  },
  {
   "cell_type": "markdown",
   "metadata": {},
   "source": [
    "Some of the major Pros of Matplotlib are:\n",
    "\n",
    "- easy to get started for simple plots\n",
    "- custom labels and texts\n",
    "- control of every element in a figure\n",
    "- high-quality output in many formats\n",
    " "
   ]
  },
  {
   "cell_type": "code",
   "execution_count": null,
   "metadata": {
    "slideshow": {
     "slide_type": "fragment"
    }
   },
   "outputs": [],
   "source": [
    "import matplotlib.pyplot as plt\n",
    "import numpy as np\n",
    "import pandas as pd"
   ]
  },
  {
   "cell_type": "markdown",
   "metadata": {
    "slideshow": {
     "slide_type": "slide"
    }
   },
   "source": [
    "Let´s start with something easy. The code below creates a basic plot. The np.linspace function is used to create an array with evenly spaced numbers over a specified interval.\n",
    "In Matplotlib the plot() functions is used to create the plot. If want display the plot you have to use the show() function."
   ]
  },
  {
   "cell_type": "code",
   "execution_count": null,
   "metadata": {
    "slideshow": {
     "slide_type": "fragment"
    }
   },
   "outputs": [],
   "source": [
    "import random\n",
    "# Make the plot reproducible\n",
    "random.seed(1)\n",
    "# Allow plotting in the notebook\n",
    "%matplotlib inline\n",
    "# Create some fake data\n",
    "data1 = [random.randint(0, 50) for i in range(70)]"
   ]
  },
  {
   "cell_type": "code",
   "execution_count": null,
   "metadata": {
    "slideshow": {
     "slide_type": "fragment"
    }
   },
   "outputs": [],
   "source": [
    "plt.plot(data1, \"-\")"
   ]
  },
  {
   "cell_type": "code",
   "execution_count": null,
   "metadata": {
    "slideshow": {
     "slide_type": "slide"
    }
   },
   "outputs": [],
   "source": [
    "plt.plot(data1, \"*\")"
   ]
  },
  {
   "cell_type": "markdown",
   "metadata": {
    "slideshow": {
     "slide_type": "slide"
    }
   },
   "source": [
    "#### Basic Matplotlib Commands"
   ]
  },
  {
   "cell_type": "markdown",
   "metadata": {
    "slideshow": {
     "slide_type": "subslide"
    }
   },
   "source": [
    "We can create a very simple line plot using the following code "
   ]
  },
  {
   "cell_type": "code",
   "execution_count": null,
   "metadata": {
    "slideshow": {
     "slide_type": "subslide"
    }
   },
   "outputs": [],
   "source": [
    "x = np.linspace(0, 5, 11)\n",
    "y = x ** 2"
   ]
  },
  {
   "cell_type": "code",
   "execution_count": null,
   "metadata": {
    "slideshow": {
     "slide_type": "subslide"
    }
   },
   "outputs": [],
   "source": [
    "plt.plot(x, y, 'r') # 'r' == red\n",
    "plt.xlabel('X Axis')\n",
    "plt.ylabel('Y Axis')\n",
    "plt.title('Title')\n",
    "plt.show()"
   ]
  },
  {
   "cell_type": "code",
   "execution_count": null,
   "metadata": {
    "slideshow": {
     "slide_type": "slide"
    }
   },
   "outputs": [],
   "source": [
    "# Create a second dataset to plot also\n",
    "import random\n",
    "random.seed(0)\n",
    "data2 = [random.randint(0, 50) for i in range(70)]\n",
    "# Make the plotting\n",
    "plt.plot(data1, \"-\", color=\"black\", label=\"data1\")\n",
    "plt.plot(data2, \"-\", color=\"red\", label=\"data2\")\n",
    "plt.xlabel(\"Index\")\n",
    "plt.ylabel(\"Data\")\n",
    "# Also label the figure as a whole\n",
    "plt.title(\"Two wonderful graphs\")\n",
    "# And finally simply call the legend \n",
    "plt.legend()\n",
    "plt.show()"
   ]
  },
  {
   "cell_type": "markdown",
   "metadata": {
    "slideshow": {
     "slide_type": "slide"
    }
   },
   "source": [
    "####  Object Oriented Method\n",
    "\n",
    "The main idea in using the more formal Object Oriented method is to create figure objects and then just call methods or attributes off of that object.\n",
    "\n",
    "<img src=\"images/matplot.png\"/>\n"
   ]
  },
  {
   "cell_type": "code",
   "execution_count": null,
   "metadata": {
    "slideshow": {
     "slide_type": "slide"
    }
   },
   "outputs": [],
   "source": [
    "# Create Figure (empty canvas)\n",
    "fig = plt.figure()\n",
    "\n",
    "# Add set of axes to figure\n",
    "axes = fig.add_axes([0.1, 0.1, 0.8, 0.8]) # left, bottom, width, height (range 0 to 1)\n",
    "\n",
    "# Plot on that set of axes\n",
    "axes.plot(x, y, 'b')\n",
    "axes.set_xlabel('Label X') # Notice the use of set_ to begin methods\n",
    "axes.set_ylabel('Label Y')\n",
    "axes.set_title('Title')\n",
    "\n"
   ]
  },
  {
   "cell_type": "markdown",
   "metadata": {
    "slideshow": {
     "slide_type": "slide"
    }
   },
   "source": [
    "Although this looks more complicated using this method gives us full control over the plot"
   ]
  },
  {
   "cell_type": "code",
   "execution_count": null,
   "metadata": {
    "slideshow": {
     "slide_type": "subslide"
    }
   },
   "outputs": [],
   "source": [
    "# Creates blank canvas\n",
    "fig = plt.figure()\n",
    "\n",
    "axes1 = fig.add_axes([0.1, 0.1, 0.8, 0.8]) # main axes\n",
    "axes2 = fig.add_axes([0.2, 0.5, 0.4, 0.3]) # inset axes\n",
    "\n",
    "# Larger Figure Axes 1\n",
    "axes1.plot(x, y, 'b')\n",
    "axes1.set_xlabel('X_label_axes2')\n",
    "axes1.set_ylabel('Y_label_axes2')\n",
    "axes1.set_title('Axes 2 Title')\n",
    "\n",
    "# Insert Figure Axes 2\n",
    "axes2.plot(y, x, 'r')\n",
    "axes2.set_xlabel('X_label_axes2')\n",
    "axes2.set_ylabel('Y_label_axes2')\n",
    "axes2.set_title('Axes 2 Title');"
   ]
  },
  {
   "cell_type": "code",
   "execution_count": null,
   "metadata": {
    "slideshow": {
     "slide_type": "fragment"
    }
   },
   "outputs": [],
   "source": [
    "import numpy as np\n",
    "import matplotlib.pyplot as plt\n",
    "\n",
    "# Figure size\n",
    "plt.figure(figsize=(8, 6), dpi=80)\n",
    "\n",
    "\n",
    "# new subplot \n",
    "plt.subplot(1, 1, 1)\n",
    "X = np.linspace(-np.pi, np.pi, 256, endpoint=True)\n",
    "C, S = np.cos(X), np.sin(X)\n",
    "# Plot cosine \n",
    "plt.plot(X, C, color=\"red\", linewidth=4.0, linestyle=\"-\",label='cosine')\n",
    "# Plot sine \n",
    "plt.plot(X, S, color=\"yellow\", linewidth=1.0, linestyle=\"-\",label='sine')\n",
    "# X-axes limits\n",
    "plt.xlim(-4.0, 4.0)\n",
    "# X-axes ticks\n",
    "plt.xticks(np.linspace(-4, 4, 9, endpoint=True))\n",
    "# Y-axes limits\n",
    "plt.ylim(-1.0, 1.0)\n",
    "# Y-axes ticks\n",
    "plt.yticks(np.linspace(-1, 1, 5, endpoint=True))\n",
    "# Save figure using 72 dots per inch\n",
    "# plt.savefig(\"exercice_2.png\", dpi=72)\n",
    "plt.legend(loc='upper left')\n",
    "# Show result on screen\n",
    "plt.show()"
   ]
  },
  {
   "cell_type": "markdown",
   "metadata": {
    "slideshow": {
     "slide_type": "slide"
    }
   },
   "source": [
    "Let's make some plots with some real data"
   ]
  },
  {
   "cell_type": "code",
   "execution_count": null,
   "metadata": {
    "slideshow": {
     "slide_type": "subslide"
    }
   },
   "outputs": [],
   "source": [
    "import pandas as pd\n",
    "\n",
    "global_temp=pd.read_csv(\"Data/non-spatial/GlobalLandTemperatures/GlobalLandTemperaturesByCountry.csv\")\n",
    "global_temp.head()"
   ]
  },
  {
   "cell_type": "code",
   "execution_count": null,
   "metadata": {
    "slideshow": {
     "slide_type": "slide"
    }
   },
   "outputs": [],
   "source": [
    "# Average temp by year\n",
    "global_temp['dt'] = pd.to_datetime(global_temp['dt'])\n",
    "\n",
    "# Set the datetime column as the index\n",
    "global_temp.index = global_temp['dt'] \n",
    "global_temp=global_temp.groupby([global_temp.index.year])['AverageTemperature','AverageTemperatureUncertainty'].mean().reset_index()\n",
    "print(global_temp)\n"
   ]
  },
  {
   "cell_type": "code",
   "execution_count": null,
   "metadata": {
    "slideshow": {
     "slide_type": "slide"
    }
   },
   "outputs": [],
   "source": [
    "import matplotlib.pyplot as plt\n",
    "\n",
    "fig = plt.figure(figsize=[20,8])\n",
    "ax = plt.axes()\n",
    "line, = ax.plot(global_temp['dt'], global_temp['AverageTemperature'], lw=2) # lw = linewidth\n",
    "plt.xticks(rotation='vertical')\n",
    "plt.show()\n"
   ]
  },
  {
   "cell_type": "code",
   "execution_count": null,
   "metadata": {
    "slideshow": {
     "slide_type": "slide"
    }
   },
   "outputs": [],
   "source": [
    "plt.figure(figsize=(12, 6))\n",
    "plt.scatter(global_temp['dt'], global_temp['AverageTemperature'], c=global_temp['AverageTemperature'], s=150, alpha=0.6, edgecolors='none', cmap='viridis')\n",
    "plt.grid(True)\n",
    "plt.title(\"Average Global Temperatures\")\n",
    "plt.xlabel(\"Year\")\n",
    "plt.ylabel(\"Temperature (Celsius)\")\n",
    "plt.show()"
   ]
  },
  {
   "cell_type": "code",
   "execution_count": null,
   "metadata": {
    "scrolled": true,
    "slideshow": {
     "slide_type": "slide"
    }
   },
   "outputs": [],
   "source": [
    "plt.figure(figsize=(12, 6))\n",
    "plt.plot(global_temp['dt'], (global_temp['AverageTemperature'] + global_temp['AverageTemperatureUncertainty']), c='purple', label='Average Uncertainty Field')\n",
    "plt.plot(global_temp['dt'], (global_temp['AverageTemperature'] - global_temp['AverageTemperatureUncertainty']), c='purple')\n",
    "plt.fill_between(global_temp['dt'], (global_temp['AverageTemperature'] + global_temp['AverageTemperatureUncertainty']), (global_temp['AverageTemperature'] - global_temp['AverageTemperatureUncertainty']), facecolor='lightblue')\n",
    "plt.plot(global_temp['dt'], global_temp['AverageTemperature'], linewidth=3, label='Average Temperature')\n",
    "plt.grid(True)\n",
    "plt.legend(loc='best')\n",
    "plt.title(\"Average Global Temperatures and Uncertainty Field\")\n",
    "plt.xlabel(\"Year\")\n",
    "plt.ylabel(\"Temperature (Celsius)\")\n",
    "plt.show()"
   ]
  },
  {
   "cell_type": "markdown",
   "metadata": {
    "slideshow": {
     "slide_type": "slide"
    }
   },
   "source": [
    "Another powerful Python visualization library is seaborn which is based on matplotlib. Seaborn can do the same things as matplotlib and it makes plotting easier. It is often preferred, because user think the default settings in seaborn are more pleasing then in matplotlib. And the good thing is, if you know matplotlib, seaborn is really easy to learn. \n",
    "Let´s try some nice example plots (More plot examples can be found on http://seaborn.pydata.org/). "
   ]
  },
  {
   "cell_type": "code",
   "execution_count": null,
   "metadata": {
    "slideshow": {
     "slide_type": "slide"
    }
   },
   "outputs": [],
   "source": [
    "import seaborn as sns\n",
    "sns.set(style=\"darkgrid\")\n",
    "plt.figure(figsize=(13, 8))\n",
    "ax = sns.scatterplot(global_temp['dt'], global_temp['AverageTemperature'], hue=global_temp['AverageTemperature'])"
   ]
  },
  {
   "cell_type": "code",
   "execution_count": null,
   "metadata": {
    "slideshow": {
     "slide_type": "slide"
    }
   },
   "outputs": [],
   "source": [
    "plt.figure(figsize=(13, 8))\n",
    "ax = sns.regplot(global_temp['dt'], global_temp['AverageTemperature'])"
   ]
  },
  {
   "cell_type": "code",
   "execution_count": null,
   "metadata": {},
   "outputs": [],
   "source": [
    "global_temp=pd.read_csv(\"Data/non-spatial/GlobalLandTemperatures/GlobalLandTemperaturesByCountry.csv\")\n",
    "countries = [\"Burkina Faso\",\"Germany\",\"Russia\",\"Japan\",\"Chile\",\"Kanada\"]"
   ]
  },
  {
   "cell_type": "code",
   "execution_count": null,
   "metadata": {},
   "outputs": [],
   "source": [
    "temp=global_temp[(global_temp['dt'] >= '2000') & (global_temp['Country'].isin(countries))]\n",
    "del temp['AverageTemperatureUncertainty']"
   ]
  },
  {
   "cell_type": "code",
   "execution_count": null,
   "metadata": {},
   "outputs": [],
   "source": [
    "temp.boxplot(by='Country',figsize=[15,10])"
   ]
  },
  {
   "cell_type": "code",
   "execution_count": null,
   "metadata": {},
   "outputs": [],
   "source": [
    "import seaborn as sns\n",
    "sns.set(style=\"darkgrid\")\n",
    "plt.figure(figsize=(16, 10))\n",
    "sns.boxplot(x='Country', y=\"AverageTemperature\", data=temp, palette=\"coolwarm\")"
   ]
  },
  {
   "cell_type": "code",
   "execution_count": null,
   "metadata": {},
   "outputs": [],
   "source": [
    "import seaborn as sns\n",
    "sns.set(style=\"darkgrid\")\n",
    "plt.figure(figsize=(16, 10))\n",
    "sns.lineplot(x='dt', y=\"AverageTemperature\", hue='Country' ,data=temp)"
   ]
  },
  {
   "cell_type": "markdown",
   "metadata": {},
   "source": [
    "## Visualisation alternatives\n",
    "\n",
    "Few years ago matplotlib was the only answer to the question: \"How do I make plots in python?\". But nowadays we have a lot of choices. Each library takes a slightly different approach to plotting data. Which one you use is up to you."
   ]
  },
  {
   "cell_type": "code",
   "execution_count": null,
   "metadata": {},
   "outputs": [],
   "source": [
    "import altair as alt\n",
    "from vega_datasets import data\n",
    "\n",
    "source = data.seattle_weather()\n",
    "\n",
    "scale = alt.Scale(domain=['sun', 'fog', 'drizzle', 'rain', 'snow'],\n",
    "                  range=['#e7ba52', '#a7a7a7', '#aec7e8', '#1f77b4', '#9467bd'])\n",
    "color = alt.Color('weather:N', scale=scale)\n",
    "\n",
    "# We create two selections:\n",
    "# - a brush that is active on the top panel\n",
    "# - a multi-click that is active on the bottom panel\n",
    "brush = alt.selection_interval(encodings=['x'])\n",
    "click = alt.selection_multi(encodings=['color'])\n",
    "\n",
    "# Top panel is scatter plot of temperature vs time\n",
    "points = alt.Chart().mark_point().encode(\n",
    "    alt.X('monthdate(date):T', title='Date'),\n",
    "    alt.Y('temp_max:Q',\n",
    "        title='Maximum Daily Temperature (C)',\n",
    "        scale=alt.Scale(domain=[-5, 40])\n",
    "    ),\n",
    "    color=alt.condition(brush, color, alt.value('lightgray')),\n",
    "    size=alt.Size('precipitation:Q', scale=alt.Scale(range=[5, 200]))\n",
    ").properties(\n",
    "    width=550,\n",
    "    height=300\n",
    ").add_selection(\n",
    "    brush\n",
    ").transform_filter(\n",
    "    click\n",
    ")\n",
    "\n",
    "# Bottom panel is a bar chart of weather type\n",
    "bars = alt.Chart().mark_bar().encode(\n",
    "    x='count()',\n",
    "    y='weather:N',\n",
    "    color=alt.condition(click, color, alt.value('lightgray')),\n",
    ").transform_filter(\n",
    "    brush\n",
    ").properties(\n",
    "    width=550,\n",
    ").add_selection(\n",
    "    click\n",
    ")\n",
    "\n",
    "alt.vconcat(\n",
    "    points,\n",
    "    bars,\n",
    "    data=source,\n",
    "    title=\"Seattle Weather: 2012-2015\"\n",
    ")"
   ]
  },
  {
   "cell_type": "code",
   "execution_count": null,
   "metadata": {},
   "outputs": [],
   "source": [
    "import pandas as pd\n",
    "\n",
    "global_temp=pd.read_csv(\"Data/non-spatial/GlobalLandTemperatures/GlobalLandTemperaturesByCountry.csv\")\n",
    "global_temp.head()\n",
    "\n",
    "# Average temp by year\n",
    "global_temp['dt'] = pd.to_datetime(global_temp['dt'])\n",
    "\n",
    "# Set the datetime column as the index\n",
    "global_temp.index = global_temp['dt'] \n",
    "global_temp=global_temp.groupby([global_temp.index.year])['AverageTemperature','AverageTemperatureUncertainty'].mean().reset_index()\n",
    "print(global_temp)\n"
   ]
  },
  {
   "cell_type": "code",
   "execution_count": null,
   "metadata": {},
   "outputs": [],
   "source": [
    "import plotly.graph_objs as go\n",
    "from plotly.offline import download_plotlyjs, init_notebook_mode, plot, iplot\n",
    "init_notebook_mode(connected=True)\n",
    "iplot([go.Scatter(x=global_temp.index, y=global_temp.AverageTemperature)])"
   ]
  },
  {
   "cell_type": "code",
   "execution_count": null,
   "metadata": {},
   "outputs": [],
   "source": [
    "import plotly.graph_objs as go\n",
    "from plotly.offline import download_plotlyjs, init_notebook_mode, plot, iplot\n",
    "init_notebook_mode(connected=True)\n",
    "\n",
    "trace_middle = go.Scatter(\n",
    "    x=global_temp.dt, \n",
    "    y=global_temp.AverageTemperature,\n",
    "    name = \"High\",\n",
    "    line = dict(color = '#17BECF'),\n",
    "    opacity = 0.8)\n",
    "\n",
    "trace_high = go.Scatter(\n",
    "    x=global_temp.dt, \n",
    "    y=global_temp.AverageTemperature+global_temp.AverageTemperatureUncertainty,\n",
    "    name = \"Temp\",\n",
    "    line = dict(color = '#7F7F7F'),\n",
    "    opacity = 0.8)    \n",
    "    \n",
    "trace_low = go.Scatter(\n",
    "    x=global_temp.dt,\n",
    "    y=global_temp.AverageTemperature-global_temp.AverageTemperatureUncertainty,\n",
    "    name = \"Low\",\n",
    "    line = dict(color = '#7F7F7F'),\n",
    "    opacity = 0.8)\n",
    "\n",
    "data = [trace_high,trace_middle,trace_low]\n",
    "\n",
    "layout = dict(\n",
    "    title='Time Series with Rangeslider',\n",
    "    xaxis=dict(\n",
    "        rangeselector=dict(\n",
    "            buttons=list([\n",
    "                dict(count=1,\n",
    "                     label='1m',\n",
    "                     step='month',\n",
    "                     stepmode='backward'),\n",
    "                dict(count=6,\n",
    "                     label='6m',\n",
    "                     step='month',\n",
    "                     stepmode='backward'),\n",
    "                dict(step='all')\n",
    "            ])\n",
    "        ),\n",
    "        rangeslider=dict(\n",
    "            visible = True\n",
    "        ),\n",
    "        type='date'\n",
    "    )\n",
    ")\n",
    "\n",
    "fig = dict(data=data, layout=layout)\n",
    "iplot(fig, filename = \"Time Series with Rangeslider\")"
   ]
  },
  {
   "cell_type": "markdown",
   "metadata": {
    "slideshow": {
     "slide_type": "slide"
    }
   },
   "source": [
    "#### Exercise 8\n",
    "\n",
    "- Calculate the mean temperature (all countries) for each year plot the data\n",
    "- Calculate the mean temperature of countries in West Africa for each year (between 1990 and 2013). Create a plot with 4 graphs each showing the mean temperature for one season (spring, summer, autumn, winter) per year\n",
    "- Calculate the temperature difference for each  country in 2010 and create a barplot showing the ranked temperature difference "
   ]
  }
 ],
 "metadata": {
  "celltoolbar": "Slideshow",
  "kernelspec": {
   "display_name": "Python 3",
   "language": "python",
   "name": "python3"
  },
  "language_info": {
   "codemirror_mode": {
    "name": "ipython",
    "version": 3
   },
   "file_extension": ".py",
   "mimetype": "text/x-python",
   "name": "python",
   "nbconvert_exporter": "python",
   "pygments_lexer": "ipython3",
   "version": "3.8.2"
  },
  "toc": {
   "base_numbering": 1,
   "nav_menu": {},
   "number_sections": true,
   "sideBar": true,
   "skip_h1_title": false,
   "title_cell": "Table of Contents",
   "title_sidebar": "Contents",
   "toc_cell": false,
   "toc_position": {},
   "toc_section_display": true,
   "toc_window_display": false
  }
 },
 "nbformat": 4,
 "nbformat_minor": 4
}
