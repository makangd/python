{
 "cells": [
  {
   "cell_type": "markdown",
   "metadata": {
    "slideshow": {
     "slide_type": "slide"
    }
   },
   "source": [
    "<center>\n",
    "<img src=\"images/vector_head.png\" width=700 align=\"center\" />\n",
    "</center>"
   ]
  },
  {
   "cell_type": "markdown",
   "metadata": {
    "slideshow": {
     "slide_type": "slide"
    }
   },
   "source": [
    "## Introduction to Geopandas"
   ]
  },
  {
   "cell_type": "markdown",
   "metadata": {
    "slideshow": {
     "slide_type": "slide"
    }
   },
   "source": [
    "### Importing geospatial data\n",
    "\n",
    "Geospatial data is available from specific GIS file formats or data stores, like ESRI shapefiles, GeoJSON files, geopackage files, PostGIS (PostgreSQL) database ...\n",
    "\n",
    "In order to read, write and manipulate geospatial data we can use the GeoPandas library to read many of those GIS file formats.\n",
    "\n",
    "gpd.read_file is the workhorse for reading GIS files. It leverages the fiona package."
   ]
  },
  {
   "cell_type": "markdown",
   "metadata": {
    "slideshow": {
     "slide_type": "slide"
    }
   },
   "source": [
    "In order to dive deeper into geopnadas we first need data. For this purpouse we will use the Natural Earth dataset\n",
    "\n",
    "\"Natural Earth is a public domain map dataset available at 1:10m, 1:50m, and 1:110 million scales. Featuring tightly integrated vector and raster data, with Natural Earth you can make a variety of visually pleasing, well-crafted maps with cartography or GIS software.\"* \n",
    "\n",
    "A subset comes bundled with GeoPandas and is accessible from the gpd.datasets module. We'll use it as a helpful global base layer map."
   ]
  },
  {
   "cell_type": "code",
   "execution_count": null,
   "metadata": {},
   "outputs": [],
   "source": [
    "import geopandas as gpd\n",
    "\n",
    "world = gpd.read_file(gpd.datasets.get_path('naturalearth_lowres'))\n",
    "africa = world[world['continent']=='Africa']\n",
    "africa.plot()"
   ]
  },
  {
   "cell_type": "markdown",
   "metadata": {
    "slideshow": {
     "slide_type": "slide"
    }
   },
   "source": [
    "Let’s see what datatype is our ‘data’"
   ]
  },
  {
   "cell_type": "code",
   "execution_count": null,
   "metadata": {
    "slideshow": {
     "slide_type": "fragment"
    }
   },
   "outputs": [],
   "source": [
    "# View object type\n",
    "type(world)"
   ]
  },
  {
   "cell_type": "markdown",
   "metadata": {
    "slideshow": {
     "slide_type": "slide"
    }
   },
   "source": [
    "If you've never seen a **GeoDataFrame**, it is quite simple: \n",
    "\n",
    "- A **GeoDataFrame** is similar to a normal **DataDrame** in **Pandas** \n",
    "\n",
    "- **Only difference**: it has a 'geometry' column \n",
    "\n",
    "- it comes additional functionality for working with geospatial data. "
   ]
  },
  {
   "cell_type": "markdown",
   "metadata": {
    "slideshow": {
     "slide_type": "slide"
    }
   },
   "source": [
    "<center>\n",
    "<img src=\"images/geoframe.png\" width=500  />\n",
    "</center>"
   ]
  },
  {
   "cell_type": "markdown",
   "metadata": {
    "slideshow": {
     "slide_type": "fragment"
    }
   },
   "source": [
    "Let’s take a look at our data and print the first 5 rows using the"
   ]
  },
  {
   "cell_type": "code",
   "execution_count": null,
   "metadata": {
    "slideshow": {
     "slide_type": "fragment"
    }
   },
   "outputs": [],
   "source": [
    "# View  the top 6 lines of attribute table of data\n",
    "world.head(6)"
   ]
  },
  {
   "cell_type": "markdown",
   "metadata": {},
   "source": [
    "### Geometry\n",
    "\n",
    "Vector data contains discrete geometric locations (x, y) known as vertices that define the shape of the spatial object and attributes (also known as properties or characteristics). Spatial vector data can consist of different types, and the 3 fundamental types are: \n",
    "\n",
    "**Points** (0-dimensional): Each individual point is defined by a single x, y coordinate. There can be many points in a vector point file. \n",
    "(e.g. GPS-coordinates, city locations, sample points ...)\n",
    "\n",
    "**Lines** (1-dimensional): A line is composed of a sequence of two or more coordinate pairs. \n",
    "(e.g. roads, rivers, contour line ...)\n",
    "\n",
    "**Polygons** (2-dimensional): A polygon is composed of one or more lines whose starting and ending coordinate pairs are the same. \n",
    "(e.g. boundary of countries, lakes, fields ...) \n",
    "\n",
    "\n",
    "\n",
    "<center>\n",
    "<img src=\"images/vector.png\" width=800  />\n",
    "</center>"
   ]
  },
  {
   "cell_type": "markdown",
   "metadata": {},
   "source": [
    "### The shapely library\n",
    "Geopandas takes advantage of Shapely’s geometric objects. The geometries for each spatial object is stored in a column called geometry.The individual geometry objects are provided by the shapely library"
   ]
  },
  {
   "cell_type": "code",
   "execution_count": null,
   "metadata": {},
   "outputs": [],
   "source": [
    "print(type(world.geometry[0]))\n",
    "world.geometry[1]"
   ]
  },
  {
   "cell_type": "markdown",
   "metadata": {},
   "source": [
    "Of course we can use the shapely library to construct our own vector data"
   ]
  },
  {
   "cell_type": "code",
   "execution_count": null,
   "metadata": {},
   "outputs": [],
   "source": [
    "from shapely.geometry import Point, Polygon, LineString\n",
    "\n",
    "p = Point(4, 5)\n",
    "p"
   ]
  },
  {
   "cell_type": "code",
   "execution_count": null,
   "metadata": {},
   "outputs": [],
   "source": [
    "polygon = Polygon([(1, 1), (1,2), (2,2), (2, 1)])\n",
    "polygon"
   ]
  },
  {
   "cell_type": "markdown",
   "metadata": {},
   "source": [
    "And of course we can also create a geopandas dataframe"
   ]
  },
  {
   "cell_type": "code",
   "execution_count": null,
   "metadata": {},
   "outputs": [],
   "source": [
    "gdf = gpd.GeoDataFrame({\n",
    "      'geometry': Polygon([(1, 1), (1,2), (2,2), (2, 1)]),\n",
    "      'attribute1': ['Polygon'],\n",
    "      'attribute2': [0.1]})\n",
    "gdf"
   ]
  },
  {
   "cell_type": "markdown",
   "metadata": {},
   "source": [
    "Since spatial data is stored as Shapely objects, it is possible to use all of the functionalities of Shapely"
   ]
  },
  {
   "cell_type": "code",
   "execution_count": null,
   "metadata": {},
   "outputs": [],
   "source": [
    "gdf.geom_type"
   ]
  },
  {
   "cell_type": "code",
   "execution_count": null,
   "metadata": {},
   "outputs": [],
   "source": [
    "gdf.bounds"
   ]
  },
  {
   "cell_type": "code",
   "execution_count": null,
   "metadata": {},
   "outputs": [],
   "source": [
    "gdf.area"
   ]
  },
  {
   "cell_type": "code",
   "execution_count": null,
   "metadata": {},
   "outputs": [],
   "source": [
    "polygon.distance(p)"
   ]
  },
  {
   "cell_type": "code",
   "execution_count": null,
   "metadata": {},
   "outputs": [],
   "source": [
    "gdf.plot(figsize = (2,2))"
   ]
  },
  {
   "cell_type": "markdown",
   "metadata": {
    "slideshow": {
     "slide_type": "slide"
    }
   },
   "source": [
    "### Data handling"
   ]
  },
  {
   "cell_type": "markdown",
   "metadata": {
    "slideshow": {
     "slide_type": "fragment"
    }
   },
   "source": [
    "The fact that our dataset is basically a pandas dataframe with additional information, we can apply pandas functions we already have learned. So we have all the pandas functionality available to use on the geospatial dataset, and to do data manipulations with the attributes and geometry information together."
   ]
  },
  {
   "cell_type": "code",
   "execution_count": null,
   "metadata": {
    "slideshow": {
     "slide_type": "fragment"
    }
   },
   "outputs": [],
   "source": [
    "world.columns"
   ]
  },
  {
   "cell_type": "code",
   "execution_count": null,
   "metadata": {},
   "outputs": [],
   "source": [
    "africa = world[world['continent']=='Africa']\n",
    "africa.plot()"
   ]
  },
  {
   "cell_type": "code",
   "execution_count": null,
   "metadata": {},
   "outputs": [],
   "source": [
    "africa['pop_est']"
   ]
  },
  {
   "cell_type": "markdown",
   "metadata": {},
   "source": [
    "Fortunately, geopandas has already a function which allows us to write our results as Shapefile"
   ]
  },
  {
   "cell_type": "code",
   "execution_count": null,
   "metadata": {},
   "outputs": [],
   "source": [
    "africa.to_file(\"Data/vector/africa.shp\")"
   ]
  },
  {
   "cell_type": "markdown",
   "metadata": {
    "slideshow": {
     "slide_type": "slide"
    }
   },
   "source": [
    "Of course GeoPandas provides additional functions for spatial analysis. We can iterate over the selected rows using a specific .iterrows() -function in (geo)pandas and print the area for each polygon:"
   ]
  },
  {
   "cell_type": "code",
   "execution_count": null,
   "metadata": {},
   "outputs": [],
   "source": [
    "for index, row in africa.iterrows():\n",
    "    poly_area = row['geometry'].area\n",
    "    print(\"Polygon area at index {0} is: {1:.3f}\".format(africa['name'][index], poly_area))"
   ]
  },
  {
   "cell_type": "markdown",
   "metadata": {},
   "source": [
    "Beware that these area calculations are in the native degrees units, which is fairly useless"
   ]
  },
  {
   "cell_type": "markdown",
   "metadata": {},
   "source": [
    "### CRS\n",
    "\n",
    "A coordinate reference system (CRS) determines how the two-dimensional (planar) coordinates of the geometry objects should be related to actual places on the (non-planar) earth. The EPSG number (“European Petroleum Survey Group”) is a code that tells about the coordinate system of the dataset.You can find a lot of information about different available coordinate reference systems from:\n",
    "\n",
    "www.spatialreference.org"
   ]
  },
  {
   "cell_type": "code",
   "execution_count": null,
   "metadata": {},
   "outputs": [],
   "source": [
    "# View CRS of object\n",
    "africa.crs"
   ]
  },
  {
   "cell_type": "markdown",
   "metadata": {},
   "source": [
    "Let’s convert those geometries into Lambert Azimuthal Equal Area projection (EPSG: 3035). Changing the projection is really easy to do in Geopandas with .to_crs() -function. As an input for the function, you should define the column containing the geometries, i.e. geometry in this case, and a epgs value of the projection that you want to use."
   ]
  },
  {
   "cell_type": "code",
   "execution_count": null,
   "metadata": {},
   "outputs": [],
   "source": [
    "# Reprojecting data\n",
    "africa_aeac = africa.to_crs('esri:102022')"
   ]
  },
  {
   "cell_type": "code",
   "execution_count": null,
   "metadata": {},
   "outputs": [],
   "source": [
    "africa['geometry'].head()\n",
    "africa_aeac['geometry'].head()"
   ]
  },
  {
   "cell_type": "code",
   "execution_count": null,
   "metadata": {},
   "outputs": [],
   "source": [
    "import matplotlib.pyplot as plt\n",
    "\n",
    "africa.plot(facecolor='gray');\n",
    "plt.title(\"WGS84 projection\");\n",
    "plt.tight_layout()\n",
    "\n",
    "africa_aeac.plot(facecolor='blue');\n",
    "plt.title(\"Africa Albers Equal Area Conic\");\n",
    "plt.tight_layout()"
   ]
  },
  {
   "cell_type": "markdown",
   "metadata": {},
   "source": [
    "Now we can calculate the actual area for each country. This time we append the result to the dataframe"
   ]
  },
  {
   "cell_type": "code",
   "execution_count": null,
   "metadata": {},
   "outputs": [],
   "source": [
    "africa_aeac['area'] = africa_aeac.area\n",
    "africa_aeac"
   ]
  },
  {
   "cell_type": "markdown",
   "metadata": {},
   "source": [
    "Let’s find out which country is the smallest and which is the biggest"
   ]
  },
  {
   "cell_type": "code",
   "execution_count": null,
   "metadata": {},
   "outputs": [],
   "source": [
    "# Maximum area\n",
    "max_area = africa_aeac['area'].max()\n",
    "\n",
    "# Mean area\n",
    "min_area = africa_aeac['area'].min()\n",
    "\n",
    "print(\"Max area: %s\\nMean area: %s\" % (round(max_area, 2), round(min_area, 2)))\n"
   ]
  },
  {
   "cell_type": "markdown",
   "metadata": {},
   "source": [
    "But which country is now the biggest/smallest. Take a guess."
   ]
  },
  {
   "cell_type": "code",
   "execution_count": null,
   "metadata": {},
   "outputs": [],
   "source": [
    "max_area_country = africa_aeac[africa_aeac['area'] == max_area]\n",
    "max_area_country"
   ]
  },
  {
   "cell_type": "code",
   "execution_count": null,
   "metadata": {},
   "outputs": [],
   "source": [
    "min_area_country = africa_aeac[africa_aeac['area'] == min_area]\n",
    "min_area_country"
   ]
  },
  {
   "cell_type": "markdown",
   "metadata": {},
   "source": [
    "Of course we can now also add the temperature data we used in the last session"
   ]
  },
  {
   "cell_type": "code",
   "execution_count": null,
   "metadata": {},
   "outputs": [],
   "source": [
    "import pandas as pd\n",
    "temp = pd.read_csv('Data/non-spatial/GlobalLandTemperatures/GlobalLandTemperaturesByCountry_2000_2013.csv')\n",
    "\n",
    "temp['name'] = temp['Country']\n",
    "africa_temp = africa.merge(temp, on='name')"
   ]
  },
  {
   "cell_type": "code",
   "execution_count": null,
   "metadata": {},
   "outputs": [],
   "source": [
    "africa_temp_20130601 = africa_temp[africa_temp['dt'] == '2013-02-01'].plot(column='AverageTemperature')"
   ]
  },
  {
   "cell_type": "code",
   "execution_count": null,
   "metadata": {},
   "outputs": [],
   "source": [
    "africa_temp.to_file('Data/vector/africa_temp.shp')"
   ]
  },
  {
   "cell_type": "markdown",
   "metadata": {
    "slideshow": {
     "slide_type": "slide"
    }
   },
   "source": [
    "### Spatial relations\n",
    "\n",
    "Spatial relationships are important aspect of geospatial data if we want to know how two spatial objects relate to each other. "
   ]
  },
  {
   "cell_type": "code",
   "execution_count": null,
   "metadata": {
    "slideshow": {
     "slide_type": "subslide"
    }
   },
   "outputs": [],
   "source": [
    "cities = gpd.read_file(gpd.datasets.get_path('naturalearth_cities'))\n",
    "cities"
   ]
  },
  {
   "cell_type": "code",
   "execution_count": null,
   "metadata": {},
   "outputs": [],
   "source": [
    "africa.plot()"
   ]
  },
  {
   "cell_type": "markdown",
   "metadata": {
    "slideshow": {
     "slide_type": "slide"
    }
   },
   "source": [
    "In the next step we will clip our cities dataset to the african continent and "
   ]
  },
  {
   "cell_type": "code",
   "execution_count": null,
   "metadata": {
    "slideshow": {
     "slide_type": "subslide"
    }
   },
   "outputs": [],
   "source": [
    "cities_africa = gpd.clip(cities, africa)\n",
    "cities_africa.plot()"
   ]
  },
  {
   "cell_type": "markdown",
   "metadata": {
    "slideshow": {
     "slide_type": "slide"
    }
   },
   "source": [
    "### Spatial relation"
   ]
  },
  {
   "cell_type": "code",
   "execution_count": null,
   "metadata": {
    "slideshow": {
     "slide_type": "subslide"
    }
   },
   "outputs": [],
   "source": [
    "#import geopandas as gpd\n",
    "#africa = gpd.read_file(\"./Data/vector/africa.shp\")"
   ]
  },
  {
   "cell_type": "code",
   "execution_count": null,
   "metadata": {
    "slideshow": {
     "slide_type": "subslide"
    }
   },
   "outputs": [],
   "source": [
    "from shapely.geometry import LineString\n",
    "\n",
    "uganda = africa.loc[africa['name'] == 'Uganda', 'geometry'].squeeze()\n",
    "\n",
    "kampala = cities_africa.loc[cities_africa['name'] == 'Kampala', 'geometry'].squeeze()\n",
    "bamako = cities_africa.loc[cities_africa['name'] == 'Bamako', 'geometry'].squeeze()"
   ]
  },
  {
   "cell_type": "code",
   "execution_count": null,
   "metadata": {
    "slideshow": {
     "slide_type": "subslide"
    }
   },
   "outputs": [],
   "source": [
    "line = LineString([kampala, bamako])\n",
    "\n",
    "\n",
    "gpd.GeoSeries([uganda, kampala, bamako , line]).plot(cmap='tab10')"
   ]
  },
  {
   "cell_type": "markdown",
   "metadata": {
    "slideshow": {
     "slide_type": "slide"
    }
   },
   "source": [
    "Kampala, the capital of Uganda, is thus located within Uganda. This is a spatial relationship, and we can test this using the individual shapely geometry objects as follow:"
   ]
  },
  {
   "cell_type": "code",
   "execution_count": null,
   "metadata": {
    "slideshow": {
     "slide_type": "subslide"
    }
   },
   "outputs": [],
   "source": [
    "kampala.within(uganda)"
   ]
  },
  {
   "cell_type": "markdown",
   "metadata": {
    "slideshow": {
     "slide_type": "subslide"
    }
   },
   "source": [
    "And using the reverse, Uganda contains Kampala:"
   ]
  },
  {
   "cell_type": "code",
   "execution_count": null,
   "metadata": {
    "slideshow": {
     "slide_type": "subslide"
    }
   },
   "outputs": [],
   "source": [
    "uganda.contains(kampala)"
   ]
  },
  {
   "cell_type": "markdown",
   "metadata": {
    "slideshow": {
     "slide_type": "subslide"
    }
   },
   "source": [
    "Of course many other spatial relations can be tested, e.g."
   ]
  },
  {
   "cell_type": "code",
   "execution_count": null,
   "metadata": {
    "slideshow": {
     "slide_type": "subslide"
    }
   },
   "outputs": [],
   "source": [
    "uganda.contains(bamako)\n",
    "bamako.within(uganda)\n",
    "uganda.contains(line)\n",
    "line.intersects(uganda)"
   ]
  },
  {
   "cell_type": "markdown",
   "metadata": {
    "slideshow": {
     "slide_type": "slide"
    }
   },
   "source": [
    "The same methods that are available on individual shapely geometries as we have seen above, are also available as methods on GeoSeries / GeoDataFrame objects."
   ]
  },
  {
   "cell_type": "code",
   "execution_count": null,
   "metadata": {},
   "outputs": [],
   "source": [
    "africa.contains(kampala)\n",
    "africa[africa.contains(kampala)]"
   ]
  },
  {
   "cell_type": "markdown",
   "metadata": {},
   "source": [
    "Overview of the different functions to check spatial relationships:\n",
    "\n",
    "- `equals`\n",
    "- `contains`\n",
    "- `crosses`\n",
    "- `disjoint`\n",
    "- `intersects`\n",
    "- `overlaps`\n",
    "- `touches`\n",
    "- `within`\n",
    "- `covers`\n"
   ]
  },
  {
   "cell_type": "markdown",
   "metadata": {},
   "source": [
    "Shapely and GeoPandas aslo provide spatial operations that return new geometric objects.\n",
    "Let's construct a buffer around Kampala:"
   ]
  },
  {
   "cell_type": "code",
   "execution_count": null,
   "metadata": {},
   "outputs": [],
   "source": [
    "kampala.buffer(2)"
   ]
  },
  {
   "cell_type": "code",
   "execution_count": null,
   "metadata": {},
   "outputs": [],
   "source": [
    "gpd.GeoSeries([uganda, kampala.buffer(2)])"
   ]
  },
  {
   "cell_type": "code",
   "execution_count": null,
   "metadata": {},
   "outputs": [],
   "source": [
    "gpd.GeoSeries([uganda, kampala.buffer(2)]).plot(alpha=0.5, cmap='tab10')"
   ]
  },
  {
   "cell_type": "markdown",
   "metadata": {},
   "source": [
    "and now take the intersection, union or difference of those two polygons:"
   ]
  },
  {
   "cell_type": "code",
   "execution_count": null,
   "metadata": {},
   "outputs": [],
   "source": [
    "#kampala.buffer(2).intersection(uganda)\n",
    "\n",
    "#kampala.buffer(2).union(uganda)\n",
    "\n",
    "kampala.buffer(2).difference(uganda)"
   ]
  },
  {
   "cell_type": "markdown",
   "metadata": {
    "slideshow": {
     "slide_type": "slide"
    }
   },
   "source": [
    "## Visualization"
   ]
  },
  {
   "cell_type": "markdown",
   "metadata": {},
   "source": [
    "Now we know how to use geopandas it is time to create some maps. The most simple way to create a map is to used the in-built plot function"
   ]
  },
  {
   "cell_type": "code",
   "execution_count": null,
   "metadata": {
    "slideshow": {
     "slide_type": "slide"
    }
   },
   "outputs": [],
   "source": [
    "import geopandas as gpd\n",
    "\n",
    "africa = gpd.read_file('Data/vector/africa.shp')\n",
    "africa.plot(figsize=(10,10))"
   ]
  },
  {
   "cell_type": "markdown",
   "metadata": {},
   "source": [
    "But let's create a more advanced map. Therefor we can use the matplotlib library"
   ]
  },
  {
   "cell_type": "code",
   "execution_count": null,
   "metadata": {},
   "outputs": [],
   "source": [
    "africa"
   ]
  },
  {
   "cell_type": "code",
   "execution_count": null,
   "metadata": {
    "slideshow": {
     "slide_type": "slide"
    }
   },
   "outputs": [],
   "source": [
    "import matplotlib.pyplot as plt\n",
    "\n",
    "# set the range for the choropleth\n",
    "vmin, vmax = africa.pop_est.min() , africa.pop_est.max()\n",
    "\n",
    "# create figure and axes for Matplotlib\n",
    "fig, ax = plt.subplots(1, figsize=(10, 6))\n",
    "\n",
    "# create map\n",
    "africa.plot(column='pop_est', cmap='Blues', linewidth=0.8, ax=ax, edgecolor='0.8')\n",
    "\n",
    "# remove the axis\n",
    "ax.axis('off')\n",
    "\n",
    "# add a title\n",
    "ax.set_title('Estimated population', \\\n",
    "              fontdict={'fontsize': '25',\n",
    "                        'fontweight' : '3'})\n",
    "\n",
    "# create an annotation for the  data source\n",
    "ax.annotate('Source: Natural Earth',\n",
    "           xy=(0.1, .08), xycoords='figure fraction',\n",
    "           horizontalalignment='left', verticalalignment='top',\n",
    "           fontsize=10, color='#555555')\n",
    "\n",
    "# Create colorbar as a legend\n",
    "sm = plt.cm.ScalarMappable(cmap='Blues', norm=plt.Normalize(vmin=vmin, vmax=vmax))\n",
    "sm._A = []\n",
    "cbar = fig.colorbar(sm)\n",
    "\n",
    "# this will save the figure as a high-res png. you can also save as svg\n",
    "fig.savefig('testmap.png', dpi=300)"
   ]
  },
  {
   "cell_type": "markdown",
   "metadata": {},
   "source": [
    "The geoplot packages provides some additional functionality compared to the basic .plot() method on GeoDataFrames\n",
    "\n"
   ]
  },
  {
   "cell_type": "code",
   "execution_count": null,
   "metadata": {
    "slideshow": {
     "slide_type": "slide"
    }
   },
   "outputs": [],
   "source": [
    "import geoplot\n",
    "import geoplot.crs as gcrs\n",
    "import matplotlib.pyplot as plt"
   ]
  },
  {
   "cell_type": "code",
   "execution_count": null,
   "metadata": {
    "scrolled": true,
    "slideshow": {
     "slide_type": "fragment"
    }
   },
   "outputs": [],
   "source": [
    "fig, ax = plt.subplots(figsize=(10, 10), subplot_kw={\n",
    "    'projection': gcrs.Orthographic(central_latitude=0, central_longitude=0)\n",
    "})\n",
    "geoplot.choropleth(africa, hue='pop_est', projection=gcrs.Orthographic(), ax=ax,\n",
    "                   linewidth=0.5, edgecolor='white')\n",
    "ax.set_global()\n",
    "ax.outline_patch.set_visible(True)\n",
    "ax.coastlines()"
   ]
  },
  {
   "cell_type": "markdown",
   "metadata": {
    "slideshow": {
     "slide_type": "slide"
    }
   },
   "source": [
    "## Interactive web-based visualizations"
   ]
  },
  {
   "cell_type": "markdown",
   "metadata": {
    "slideshow": {
     "slide_type": "fragment"
    }
   },
   "source": [
    "There are nowadays many libraries that target interactive web-based visualizations:\n",
    "\n",
    "- Bokeh: https://bokeh.pydata.org/en/latest/docs/gallery/texas.html\n",
    "- GeoViews (other interface to Bokeh/matplotlib): http://geo.holoviews.org\n",
    "- Altair: https://altair-viz.github.io/gallery/choropleth.html\n",
    "- Plotly: https://plot.ly/python/#maps\n",
    "    ...\n"
   ]
  },
  {
   "cell_type": "markdown",
   "metadata": {
    "slideshow": {
     "slide_type": "fragment"
    }
   },
   "source": [
    "Another popular javascript library for online maps is Leaflet.js, and this has python bindings in the folium and ipyleaflet packages. We basically give it minimal instructions, JS does loads of work in the background and we get some very, very cool maps. "
   ]
  },
  {
   "cell_type": "code",
   "execution_count": null,
   "metadata": {
    "slideshow": {
     "slide_type": "slide"
    }
   },
   "outputs": [],
   "source": [
    "import ipyleaflet\n",
    "\n",
    "m = ipyleaflet.Map(center=[0, 0], zoom=2)\n",
    "\n",
    "layer = ipyleaflet.GeoJSON(data=africa.__geo_interface__)\n",
    "m.add_layer(layer)\n",
    "m"
   ]
  },
  {
   "cell_type": "code",
   "execution_count": null,
   "metadata": {},
   "outputs": [],
   "source": [
    "import ipyleaflet\n",
    "\n",
    "m = ipyleaflet.Map(center=[0, 0], zoom=10)\n",
    "\n",
    "layer = ipyleaflet.GeoJSON(data=africa.__geo_interface__)\n",
    "m.add_layer(layer)\n",
    "m"
   ]
  },
  {
   "cell_type": "code",
   "execution_count": null,
   "metadata": {},
   "outputs": [],
   "source": [
    "from ipyleaflet import Map, basemaps, basemap_to_tiles\n",
    "\n",
    "m = ipyleaflet.Map(center=[0, 0], zoom=2, basemap=basemap_to_tiles(basemaps.NASAGIBS.ModisTerraTrueColorCR, \"2020-04-08\"))\n",
    "\n",
    "layer = ipyleaflet.GeoJSON(data=africa.__geo_interface__)\n",
    "m.add_layer(layer)\n",
    "m"
   ]
  },
  {
   "cell_type": "code",
   "execution_count": null,
   "metadata": {},
   "outputs": [],
   "source": [
    "import folium\n",
    "\n",
    "m = folium.Map([0, 0], zoom_start=2, tiles=\"OpenStreetMap\")\n",
    "folium.Choropleth(geo_data=africa, data=africa, columns=['name', 'pop_est'],\n",
    "             key_on='feature.properties.name', fill_color='BuGn', highlight=True).add_to(m)\n",
    "m"
   ]
  },
  {
   "cell_type": "markdown",
   "metadata": {
    "slideshow": {
     "slide_type": "slide"
    }
   },
   "source": [
    "## Advanced Examples"
   ]
  },
  {
   "cell_type": "markdown",
   "metadata": {
    "slideshow": {
     "slide_type": "slide"
    }
   },
   "source": [
    "Interactive Weather Maps in Python\n",
    "\n",
    "Source: https://medium.com/@plotlygraphs/how-to-create-2d-and-3d-interactive-weather-maps-in-python-and-r-77ddd53cca8"
   ]
  },
  {
   "cell_type": "code",
   "execution_count": null,
   "metadata": {
    "slideshow": {
     "slide_type": "fragment"
    }
   },
   "outputs": [],
   "source": [
    "import plotly\n",
    "import plotly.offline as py\n",
    "from plotly.graph_objs import *\n",
    "py.init_notebook_mode(connected=False)\n",
    "from plotly.graph_objs.layout import *\n",
    "from plotly.graph_objs.scatter import *\n",
    "import numpy as np           \n",
    "from scipy.io import netcdf  \n",
    "from mpl_toolkits.basemap import Basemap\n",
    "\n",
    "\n",
    "f_path = 'Data/raster/compday.uD1lrjCi2B.nc' \n",
    "\n",
    "# Retrieve data from NetCDF file\n",
    "with netcdf.netcdf_file(f_path, 'r') as f:\n",
    "    lon = f.variables['lon'][::]    # copy as list\n",
    "    lat = f.variables['lat'][::-1]  # invert the latitude vector -> South to North\n",
    "    air = f.variables['prate'][0,::-1,:]  # squeeze out the time dimension, \n",
    "                                        # invert latitude index\n",
    "# Shift 'lon' from [0,360] to [-180,180], make numpy array\n",
    "tmp_lon = np.array([lon[n]-360 if l>=180 else lon[n] \n",
    "                   for n,l in enumerate(lon)])  # => [0,180]U[-180,2.5]\n",
    "\n",
    "i_east, = np.where(tmp_lon>=0)  # indices of east lon\n",
    "i_west, = np.where(tmp_lon<0)   # indices of west lon\n",
    "lon = np.hstack((tmp_lon[i_west], tmp_lon[i_east]))  # stack the 2 halves\n",
    "\n",
    "# Correspondingly, shift the 'precip' array\n",
    "precip_air = np.array(air)\n",
    "air = np.hstack((precip_air[:,i_west], precip_air[:,i_east]))\n",
    "trace1 = Contour(\n",
    "    z=air,\n",
    "    x=lon,\n",
    "    y=lat,\n",
    "    colorscale= [[0.0, '#543005'], [0.07692307692307693, '#7f4909'], [0.15384615384615385, '#a76a1d'], [0.23076923076923078, '#c99545'], [0.3076923076923077, '#e1c582'], [0.38461538461538464, '#f2e2b8'], [0.46153846153846156, '#f6f0e2'], [0.5384615384615384, '#e4f1ef'], [0.6153846153846154, '#bce6e0'], [0.6923076923076923, '#86cfc4'], [0.7692307692307693, '#4ea79e'], [0.8461538461538461, '#218078'], [0.9230769230769231, '#015c53'], [1.0, '#003c30']],\n",
    "    zauto=False,  # custom contour levels\n",
    "    zmin=-3,      # first contour level\n",
    "    zmax=3,        # last contour level  => colorscale is centered about 0\n",
    "    \n",
    "colorbar= {\n",
    "    \"borderwidth\": 0, \n",
    "    \"outlinewidth\": 0, \n",
    "    \"thickness\": 15, \n",
    "    \"tickfont\": {\"size\": 14}, \n",
    "    \"title\": \"mm/day\"}, #gives your legend some units                                                                     \n",
    "\n",
    "contours= {\n",
    "    \"end\": 2.5, \n",
    "    \"showlines\": False, \n",
    "    \"size\": 0.25, #this is your contour interval\n",
    "    \"start\": -2.5}     \n",
    "    \n",
    ")    \n",
    "# Make shortcut to Basemap object, \n",
    "# not specifying projection type for this example\n",
    "m = Basemap() \n",
    "\n",
    "# Make trace-generating function (return a Scatter object)\n",
    "def make_scatter(x,y):\n",
    "    return Scatter(\n",
    "        x=x,\n",
    "        y=y,\n",
    "        mode='lines',\n",
    "        line=Line(color=\"black\"),\n",
    "        name=' '  # no name on hover\n",
    "    )\n",
    "\n",
    "# Functions converting coastline/country polygons to lon/lat traces\n",
    "def polygons_to_traces(poly_paths, N_poly):\n",
    "    ''' \n",
    "    pos arg 1. (poly_paths): paths to polygons\n",
    "    pos arg 2. (N_poly): number of polygon to convert\n",
    "    '''\n",
    "    # init. plotting list\n",
    "    data = dict(\n",
    "        x=[],\n",
    "        y=[],\n",
    "        mode='lines',\n",
    "        line=Line(color=\"black\"),\n",
    "        name=' '\n",
    "    )\n",
    "\n",
    "    for i_poly in range(N_poly):\n",
    "        poly_path = poly_paths[i_poly]\n",
    "        \n",
    "        # get the Basemap coordinates of each segment\n",
    "        coords_cc = np.array(\n",
    "            [(vertex[0],vertex[1]) \n",
    "             for (vertex,code) in poly_path.iter_segments(simplify=False)]\n",
    "        )\n",
    "        \n",
    "        # convert coordinates to lon/lat by 'inverting' the Basemap projection\n",
    "        lon_cc, lat_cc = m(coords_cc[:,0],coords_cc[:,1], inverse=True)\n",
    "    \n",
    "        \n",
    "        # add plot.ly plotting options\n",
    "        data['x'] = data['x'] + lon_cc.tolist() + [np.nan]\n",
    "        data['y'] = data['y'] + lat_cc.tolist() + [np.nan]\n",
    "        \n",
    "        # traces.append(make_scatter(lon_cc,lat_cc))\n",
    "     \n",
    "    return [data]\n",
    "\n",
    "# Function generating coastline lon/lat traces\n",
    "def get_coastline_traces():\n",
    "    poly_paths = m.drawcoastlines().get_paths() # coastline polygon paths\n",
    "    N_poly = 91  # use only the 91st biggest coastlines (i.e. no rivers)\n",
    "    return polygons_to_traces(poly_paths, N_poly)\n",
    "\n",
    "# Function generating country lon/lat traces\n",
    "def get_country_traces():\n",
    "    poly_paths = m.drawcountries().get_paths() # country polygon paths\n",
    "    N_poly = len(poly_paths)  # use all countries\n",
    "    return polygons_to_traces(poly_paths, N_poly)\n",
    "\n",
    "# Get list of of coastline, country, and state lon/lat traces\n",
    "traces_cc = get_coastline_traces()+get_country_traces()\n",
    "data = Data([trace1]+traces_cc)\n",
    "\n",
    "title = u\"Surface Precipitation Rate Anomalies<br>Dec 2017-Jan 2018\"\n",
    "\n",
    "anno_text = \"Data courtesy of \\\n",
    "<a href='http://www.esrl.noaa.gov/psd/data/composites/day/'>\\\n",
    "NOAA Earth System Research Laboratory</a>\"\n",
    "\n",
    "axis_style = dict(\n",
    "    zeroline=False,\n",
    "    showline=False,\n",
    "    showgrid=False,\n",
    "    ticks='',\n",
    "    showticklabels=False,\n",
    ")\n",
    "\n",
    "layout = Layout(\n",
    "    title=title,\n",
    "    showlegend=False,\n",
    "    hovermode=\"closest\",        # highlight closest point on hover\n",
    "    xaxis=XAxis(\n",
    "        axis_style,\n",
    "        range=[lon[0],lon[-1]]  # restrict y-axis to range of lon\n",
    "    ),\n",
    "    yaxis=YAxis(\n",
    "        axis_style,\n",
    "    ),\n",
    "    annotations=Annotations([\n",
    "        Annotation(\n",
    "            text=anno_text,\n",
    "            xref='paper',\n",
    "            yref='paper',\n",
    "            x=0,\n",
    "            y=1,\n",
    "            yanchor='bottom',\n",
    "            showarrow=False\n",
    "        )\n",
    "    ]),\n",
    "    autosize=False,\n",
    "    width=1200,\n",
    "    height=800,\n",
    ")\n",
    "\n",
    "fig = Figure(data=data, layout=layout)\n",
    "\n",
    "py.iplot(fig, filename=\"NCEP Precipitation\")"
   ]
  },
  {
   "cell_type": "markdown",
   "metadata": {
    "slideshow": {
     "slide_type": "slide"
    }
   },
   "source": [
    "Interactive Map of the NYC bicycle sharing program\n",
    "\n",
    "Source:https://blog.prototypr.io/interactive-maps-with-python-part-1-aa1563dbe5a9"
   ]
  },
  {
   "cell_type": "code",
   "execution_count": null,
   "metadata": {
    "slideshow": {
     "slide_type": "slide"
    }
   },
   "outputs": [],
   "source": [
    "import pandas as pd\n",
    "bike_data = pd.read_csv(\"Data/non-spatial/citibike-tripdata_example.csv\") \n",
    "bike_data"
   ]
  },
  {
   "cell_type": "code",
   "execution_count": null,
   "metadata": {
    "slideshow": {
     "slide_type": "slide"
    }
   },
   "outputs": [],
   "source": [
    "bike_data[\"starttime\"] = pd.to_datetime(bike_data[\"starttime\"])\n",
    "bike_data[\"stoptime\"] = pd.to_datetime(bike_data[\"stoptime\"])\n",
    "bike_data[\"hour\"] = bike_data[\"starttime\"].map(lambda x: x.hour)"
   ]
  },
  {
   "cell_type": "code",
   "execution_count": null,
   "metadata": {
    "slideshow": {
     "slide_type": "slide"
    }
   },
   "outputs": [],
   "source": [
    "def get_trip_counts_by_hour(selected_hour):\n",
    "    # make a DataFrame with locations for each bike station\n",
    "    locations = bike_data.groupby(\"start station id\").first()\n",
    "    locations = locations.loc[:, [\"start station latitude\",\n",
    "                                 \"start station longitude\",\n",
    "                                 \"start station name\"]]\n",
    "    \n",
    "    #select one time of day\n",
    "    subset = bike_data[bike_data[\"hour\"]==selected_hour]\n",
    "    \n",
    "    # count trips for each destination\n",
    "    departure_counts =  subset.groupby(\"start station id\").count()\n",
    "    departure_counts = departure_counts.iloc[:,[0]]\n",
    "    departure_counts.columns= [\"departure count\"]\n",
    "    \n",
    "    # count trips for each origin\n",
    "    arrival_counts =  subset.groupby(\"end station id\").count().iloc[:,[0]]\n",
    "    arrival_counts.columns= [\"arrival count\"]\n",
    "\n",
    "    #join departure counts, arrival counts, and locations\n",
    "    trip_counts = departure_counts.join(locations).join(arrival_counts)\n",
    "    return trip_counts\n",
    "\n",
    "# print a sample to check our code works\n",
    "get_trip_counts_by_hour(6).head()\n",
    "\n",
    "def plot_station_counts(trip_counts):\n",
    "    # generate a new map\n",
    "    folium_map = folium.Map(location=[40.738, -73.98],\n",
    "                            zoom_start=13,\n",
    "                            tiles=\"CartoDB dark_matter\",\n",
    "                            width='50%')\n",
    "\n",
    "    # for each row in the data, add a cicle marker\n",
    "    for index, row in trip_counts.iterrows():\n",
    "        # calculate net departures\n",
    "        net_departures = (row[\"departure count\"]-row[\"arrival count\"])\n",
    "        \n",
    "        # generate the popup message that is shown on click.\n",
    "        popup_text = \"{}<br> total departures: {}<br> total arrivals: {}<br> net departures: {}\"\n",
    "        popup_text = popup_text.format(row[\"start station name\"],\n",
    "                          row[\"arrival count\"],\n",
    "                          row[\"departure count\"],\n",
    "                          net_departures)\n",
    "        \n",
    "        # radius of circles\n",
    "        radius = net_departures/20\n",
    "        \n",
    "        # choose the color of the marker\n",
    "        if net_departures>0:\n",
    "            # color=\"#FFCE00\" # orange\n",
    "            # color=\"#007849\" # green\n",
    "            color=\"#E37222\" # tangerine\n",
    "        else:\n",
    "            # color=\"#0375B4\" # blue\n",
    "            # color=\"#FFCE00\" # yellow            \n",
    "            color=\"#0A8A9F\" # teal\n",
    "        \n",
    "        # add marker to the map\n",
    "        folium.CircleMarker(location=(row[\"start station latitude\"],\n",
    "                                      row[\"start station longitude\"]),\n",
    "                            radius=radius,\n",
    "                            color=color,\n",
    "                            popup=popup_text,\n",
    "                            fill=True).add_to(folium_map)\n",
    "    return folium_map"
   ]
  },
  {
   "cell_type": "code",
   "execution_count": null,
   "metadata": {},
   "outputs": [],
   "source": [
    "# plot net departures at 9AM\n",
    "\n",
    "trip_counts = get_trip_counts_by_hour(9)\n",
    "plot_station_counts(trip_counts)"
   ]
  },
  {
   "cell_type": "markdown",
   "metadata": {},
   "source": [
    "### Additional Content: Retrieving OpenStreetMap data"
   ]
  },
  {
   "cell_type": "code",
   "execution_count": null,
   "metadata": {},
   "outputs": [],
   "source": [
    "import osmnx as ox\n",
    "import networkx as nx\n",
    "import geopandas as gpd\n",
    "import matplotlib.pyplot as plt\n",
    "import pandas as pd\n",
    "\n",
    "place_name = \"Maxvorstadt ,Munich, Germany\"\n",
    "graph = ox.graph_from_place(place_name, network_type='drive')\n",
    "nodes, edges = ox.graph_to_gdfs(graph)\n",
    "buildings = ox.footprints_from_place(place_name) \n",
    "university = ox.pois_from_place(place_name, amenities=['university'])\n"
   ]
  },
  {
   "cell_type": "code",
   "execution_count": null,
   "metadata": {},
   "outputs": [],
   "source": [
    "fig, ax = plt.subplots()\n",
    "edges.plot(ax=ax, facecolor='black')\n",
    "buildings.plot(ax=ax, facecolor='khaki', alpha=0.7)\n",
    "university.plot(ax=ax, facecolor='red', alpha=0.7)\n",
    "\n",
    "plt.tight_layout()"
   ]
  },
  {
   "cell_type": "code",
   "execution_count": null,
   "metadata": {},
   "outputs": [],
   "source": [
    "pois = university[(university['name'] == 'Lehrstuhl für Kartographie') | (university['name'] == 'Technische Universität München / Modelierung Räumlicher Mobilität')]\n"
   ]
  },
  {
   "cell_type": "code",
   "execution_count": null,
   "metadata": {},
   "outputs": [],
   "source": [
    "fig, ax = plt.subplots()\n",
    "edges.plot(ax=ax, facecolor='black')\n",
    "pois.plot(ax=ax, facecolor='red')\n",
    "\n",
    "plt.tight_layout()"
   ]
  },
  {
   "cell_type": "markdown",
   "metadata": {},
   "source": [
    "### Additional Conetent 2: Networks "
   ]
  },
  {
   "cell_type": "code",
   "execution_count": null,
   "metadata": {},
   "outputs": [],
   "source": [
    "orig_xy = (pois.iloc[0].geometry.y, pois.iloc[0].geometry.x)\n",
    "target_xy = (pois.iloc[1].geometry.y,pois.iloc[1].geometry.x)\n",
    "orig_node = ox.get_nearest_node(graph, orig_xy, method='euclidean')\n",
    "target_node = ox.get_nearest_node(graph, target_xy, method='euclidean')"
   ]
  },
  {
   "cell_type": "code",
   "execution_count": null,
   "metadata": {},
   "outputs": [],
   "source": [
    "o_closest = nodes.loc[orig_node]\n",
    "t_closest = nodes.loc[target_node]"
   ]
  },
  {
   "cell_type": "code",
   "execution_count": null,
   "metadata": {},
   "outputs": [],
   "source": [
    "od_nodes = gpd.GeoDataFrame([o_closest, t_closest], geometry='geometry', crs=nodes.crs)\n",
    "od_nodes.head()"
   ]
  },
  {
   "cell_type": "code",
   "execution_count": null,
   "metadata": {},
   "outputs": [],
   "source": [
    "route = nx.shortest_path(G=graph, source=orig_node, target=target_node, weight='length')\n",
    "print(route)"
   ]
  },
  {
   "cell_type": "code",
   "execution_count": null,
   "metadata": {},
   "outputs": [],
   "source": [
    "fig, ax = ox.plot_graph_route(graph, route, origin_point=orig_xy, destination_point=target_xy)"
   ]
  },
  {
   "cell_type": "markdown",
   "metadata": {},
   "source": [
    "## Exercise\n",
    "\n",
    "- Import the datasets_105806_252067_stations.csv (Data/non-spatial)dataset and create a GeoPandasDataFrame (Hint: don't forget to set the CRS)\n",
    "- How many features are there in the dataset? \n",
    "- Make a quick plot of the stations dataset.\n",
    "- Create a nice map of all bike stations in London \n",
    "- Make a histogram showing the distribution of capacities in the stations\n",
    "- Create a spatial point object with the coordinates of the Big Ben\n",
    "- Import the london_boroughs dataset (Data/vector)\n",
    "- Check if the Big Ben is located within Westminster\n",
    "- How many bike stations are in Westminster\n",
    "- Determine for each bike station in which borough it is located\n",
    "- Create a map showing the bike station density in each district\n",
    "- Calculate the distance to the Big Ben for each station\n",
    "- Print the distance and the name of the closest station\n",
    "- Create a plot with the Big Ben and all the stations where the distance to the Big Ben is less than 1 km. Colorize each station depending on thier distance to the Big Ben\n",
    "\n",
    "Additional execises:\n",
    "\n",
    "- Import the journey dataset journeys.csv\n",
    "- How long took the longest journey\n",
    "- At which station did the traveller start his/her journey and at which station did it end\n",
    "- Calculate the distance between these stations\n",
    "- Use the osmnx and try to download a street network for London\n",
    "- Make a map showing the the streets of london and the 2 bike stations \n",
    "- Calculate the shortest path between the 2 stations\n",
    "- Use the map from above and add the shortest route "
   ]
  }
 ],
 "metadata": {
  "celltoolbar": "Slideshow",
  "kernelspec": {
   "display_name": "Python 3",
   "language": "python",
   "name": "python3"
  },
  "language_info": {
   "codemirror_mode": {
    "name": "ipython",
    "version": 3
   },
   "file_extension": ".py",
   "mimetype": "text/x-python",
   "name": "python",
   "nbconvert_exporter": "python",
   "pygments_lexer": "ipython3",
   "version": "3.8.2"
  },
  "toc": {
   "base_numbering": 1,
   "nav_menu": {},
   "number_sections": true,
   "sideBar": true,
   "skip_h1_title": false,
   "title_cell": "Table of Contents",
   "title_sidebar": "Contents",
   "toc_cell": false,
   "toc_position": {},
   "toc_section_display": true,
   "toc_window_display": false
  }
 },
 "nbformat": 4,
 "nbformat_minor": 4
}
