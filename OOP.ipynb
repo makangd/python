{
 "cells": [
  {
   "cell_type": "markdown",
   "metadata": {
    "slideshow": {
     "slide_type": "slide"
    }
   },
   "source": [
    "# Object-oriented programming in Python"
   ]
  },
  {
   "cell_type": "markdown",
   "metadata": {
    "slideshow": {
     "slide_type": "slide"
    }
   },
   "source": [
    "Object-oriented programming has some advantages over other design patterns.  However, while a procedural style can suffice for writing short, simple programs, an object-oriented programming (OOP) approach becomes more valuable the more your program grows in size and complexity. This, in turn, leads to higher-quality software, which is also extensible with new methods and attributes. The learning curve is, however, steeper."
   ]
  },
  {
   "cell_type": "markdown",
   "metadata": {
    "slideshow": {
     "slide_type": "slide"
    }
   },
   "source": [
    "The central concept in object-oriented programming is that of the object. In OOP, an object is the representation of a real object with its properties and behavior (methods) in a program. "
   ]
  },
  {
   "cell_type": "code",
   "execution_count": null,
   "metadata": {
    "slideshow": {
     "slide_type": "fragment"
    }
   },
   "outputs": [],
   "source": [
    "class Class_Name(object):\n",
    "    'Class_documentation(optional)'\n",
    "    def _init__(self, param1, param2):\n",
    "        initializationof_some_data\n",
    "        assignment_of_some_values\n",
    "    def some_Method(self, param3, param4):\n",
    "        do_something\n",
    "        return some_data\n",
    "    Other_Class_Suites"
   ]
  },
  {
   "cell_type": "markdown",
   "metadata": {
    "slideshow": {
     "slide_type": "slide"
    }
   },
   "source": [
    "## Defining a Python Class"
   ]
  },
  {
   "cell_type": "markdown",
   "metadata": {
    "slideshow": {
     "slide_type": "fragment"
    }
   },
   "source": [
    "Objects in Python may be built describing their structure through a class. A class is the programming representation of a generic object. A Class is like an object constructor, or a \"blueprint\" for creating objects.\n",
    "\n",
    "The class keyword defines a new class; everything indented under class is part of the class."
   ]
  },
  {
   "cell_type": "code",
   "execution_count": null,
   "metadata": {
    "slideshow": {
     "slide_type": "fragment"
    }
   },
   "outputs": [],
   "source": [
    "class Person():\n",
    "    name = 'Dave'\n",
    "    age = 24\n",
    "    sex = 'male'\n",
    "    courses = ['Biology', 'Mathematics', 'English']\n",
    "\n",
    "p = Person()\n",
    "p.name\n",
    "p.age"
   ]
  },
  {
   "cell_type": "markdown",
   "metadata": {
    "slideshow": {
     "slide_type": "slide"
    }
   },
   "source": [
    "### Objects"
   ]
  },
  {
   "cell_type": "markdown",
   "metadata": {
    "slideshow": {
     "slide_type": "fragment"
    }
   },
   "source": [
    "Now we can use our class to create objects (instances):"
   ]
  },
  {
   "cell_type": "code",
   "execution_count": null,
   "metadata": {
    "slideshow": {
     "slide_type": "fragment"
    }
   },
   "outputs": [],
   "source": [
    "p = Person()\n",
    "p.age"
   ]
  },
  {
   "cell_type": "code",
   "execution_count": null,
   "metadata": {
    "slideshow": {
     "slide_type": "fragment"
    }
   },
   "outputs": [],
   "source": [
    "p.courses"
   ]
  },
  {
   "cell_type": "markdown",
   "metadata": {
    "slideshow": {
     "slide_type": "slide"
    }
   },
   "source": [
    "Of course , you can modify properties on objects like this:"
   ]
  },
  {
   "cell_type": "code",
   "execution_count": null,
   "metadata": {
    "slideshow": {
     "slide_type": "fragment"
    }
   },
   "outputs": [],
   "source": [
    "p.age = 24\n",
    "p.age"
   ]
  },
  {
   "cell_type": "markdown",
   "metadata": {
    "slideshow": {
     "slide_type": "slide"
    }
   },
   "source": [
    "### Attributes"
   ]
  },
  {
   "cell_type": "markdown",
   "metadata": {
    "slideshow": {
     "slide_type": "slide"
    }
   },
   "source": [
    "We can create classes with:\n",
    "\n",
    "- attributes: things those classes have\n",
    "- methods: things those \"classes can do\""
   ]
  },
  {
   "cell_type": "code",
   "execution_count": null,
   "metadata": {
    "slideshow": {
     "slide_type": "fragment"
    }
   },
   "outputs": [],
   "source": [
    "class Person():\n",
    "    name = 'Dave'\n",
    "    age = 24\n",
    "    sex = 'male'\n",
    "    courses = ['Biology', 'Mathematics', 'English']\n",
    "\n",
    "p = Person()\n",
    "p.name\n",
    "p.age"
   ]
  },
  {
   "cell_type": "markdown",
   "metadata": {
    "slideshow": {
     "slide_type": "slide"
    }
   },
   "source": [
    "We can manipulate these attributes just like any other python variable:"
   ]
  },
  {
   "cell_type": "code",
   "execution_count": null,
   "metadata": {
    "slideshow": {
     "slide_type": "fragment"
    }
   },
   "outputs": [],
   "source": [
    "p.courses.append(\"Photography\")\n",
    "p.courses"
   ]
  },
  {
   "cell_type": "markdown",
   "metadata": {
    "slideshow": {
     "slide_type": "slide"
    }
   },
   "source": [
    "### Methods"
   ]
  },
  {
   "cell_type": "markdown",
   "metadata": {
    "slideshow": {
     "slide_type": "fragment"
    }
   },
   "source": [
    "Classes/objects can have methods just like functions except that we have an extra self variable. We will now see an example "
   ]
  },
  {
   "cell_type": "code",
   "execution_count": null,
   "metadata": {
    "slideshow": {
     "slide_type": "fragment"
    }
   },
   "outputs": [],
   "source": [
    "class Student:\n",
    "    def say_hi():\n",
    "        print('Hello')\n",
    "\n",
    "s = Student\n",
    "s.say_hi()"
   ]
  },
  {
   "cell_type": "markdown",
   "metadata": {
    "slideshow": {
     "slide_type": "slide"
    }
   },
   "source": [
    "### The __init__ method"
   ]
  },
  {
   "cell_type": "markdown",
   "metadata": {
    "slideshow": {
     "slide_type": "fragment"
    }
   },
   "source": [
    "The __init__ method is executed as soon as an object of a class is instantiated. An __init__ method has to be defined with def. This is the initializer that you can later use to instantiate objects."
   ]
  },
  {
   "cell_type": "code",
   "execution_count": null,
   "metadata": {
    "slideshow": {
     "slide_type": "fragment"
    }
   },
   "outputs": [],
   "source": [
    "class Student:\n",
    "    def __init__(self, name, age):\n",
    "        self.name = name\n",
    "        self.age = age\n",
    "\n",
    "    def say_hi(self):\n",
    "        print('Hello, my name is', self.name)\n",
    "        \n",
    "peter = Student(name='Peter', age=24)\n",
    "anna = Student(name='Anna', age=26)\n",
    "print(peter.name)\n",
    "peter.say_hi()"
   ]
  },
  {
   "cell_type": "markdown",
   "metadata": {
    "slideshow": {
     "slide_type": "slide"
    }
   },
   "source": [
    "The self.name and self.age variables are called attributes of the object. The **self** parameter is a reference to the current instance of the class, and is used to access variables that belongs to the class."
   ]
  },
  {
   "cell_type": "markdown",
   "metadata": {
    "slideshow": {
     "slide_type": "slide"
    }
   },
   "source": [
    "So let's initiate our object. When creating new instance Pete, of the class Student, we do so by using the class name followed by the arguments in the parentheses."
   ]
  },
  {
   "cell_type": "code",
   "execution_count": null,
   "metadata": {
    "slideshow": {
     "slide_type": "fragment"
    }
   },
   "outputs": [],
   "source": [
    "pete = Student('Pete', 24)"
   ]
  },
  {
   "cell_type": "markdown",
   "metadata": {
    "slideshow": {
     "slide_type": "slide"
    }
   },
   "source": [
    "Now, we are able to use the self.name field in our methods which is demonstrated in the say_hi method"
   ]
  },
  {
   "cell_type": "code",
   "execution_count": null,
   "metadata": {
    "slideshow": {
     "slide_type": "fragment"
    }
   },
   "outputs": [],
   "source": [
    "pete.name\n",
    "pete.age\n",
    "pete.say_hi()"
   ]
  },
  {
   "cell_type": "markdown",
   "metadata": {
    "slideshow": {
     "slide_type": "slide"
    }
   },
   "source": [
    "### What we learned so far"
   ]
  },
  {
   "cell_type": "markdown",
   "metadata": {
    "slideshow": {
     "slide_type": "fragment"
    }
   },
   "source": [
    "- Objects are described by a class, which can generate one or more instances\n",
    "- A class contains methods, which are functions, and they accept at least one argument called self, which is the actual instance on which the method has been called. \n",
    "- A special method, __init__() deals with the initialization of the object, setting the initial value of the attributes."
   ]
  },
  {
   "cell_type": "markdown",
   "metadata": {
    "slideshow": {
     "slide_type": "slide"
    }
   },
   "source": [
    "<img src=\"https://scriptverse.academy/img/tutorials/php-classes-and-objects.png\"  />\n",
    "\n",
    "Source: https://scriptverse.academy/img/tutorials/php-classes-and-objects.png"
   ]
  },
  {
   "cell_type": "markdown",
   "metadata": {
    "slideshow": {
     "slide_type": "slide"
    }
   },
   "source": [
    "### class variables vs object variables"
   ]
  },
  {
   "cell_type": "markdown",
   "metadata": {
    "slideshow": {
     "slide_type": "fragment"
    }
   },
   "source": [
    "There are two types of fields\n",
    "\n",
    "- class variables : are shared - they can be accessed by all instances of that class\n",
    "- object variables : are owned by each individual object/instance of the class\n"
   ]
  },
  {
   "cell_type": "code",
   "execution_count": null,
   "metadata": {
    "slideshow": {
     "slide_type": "slide"
    }
   },
   "outputs": [],
   "source": [
    "class Student:\n",
    "    \n",
    "    n = 0\n",
    "    \n",
    "    def __init__(self, name, age):\n",
    "        self.name = name\n",
    "        self.age = age\n",
    "        \n",
    "        Student.n += 1\n",
    "\n",
    "    def say_hi(self):\n",
    "        print('Hello, my name is', self.name)\n",
    "\n",
    "    @classmethod\n",
    "    def how_many(cls):\n",
    "        print(\"We have {:d} students in this course.\".format(cls.n))"
   ]
  },
  {
   "cell_type": "code",
   "execution_count": null,
   "metadata": {
    "slideshow": {
     "slide_type": "fragment"
    }
   },
   "outputs": [],
   "source": [
    "pete = Student('Pete', 24)\n",
    "lisa = Student('Lisa', 26)\n",
    "jack = Student('Jack', 25)"
   ]
  },
  {
   "cell_type": "code",
   "execution_count": null,
   "metadata": {
    "slideshow": {
     "slide_type": "slide"
    }
   },
   "outputs": [],
   "source": [
    "lisa.say_hi()"
   ]
  },
  {
   "cell_type": "code",
   "execution_count": null,
   "metadata": {
    "slideshow": {
     "slide_type": "fragment"
    }
   },
   "outputs": [],
   "source": [
    "Student.how_many()"
   ]
  },
  {
   "cell_type": "code",
   "execution_count": 1,
   "metadata": {
    "slideshow": {
     "slide_type": "slide"
    }
   },
   "outputs": [],
   "source": [
    "class Student:\n",
    "    hair_colour = 'brown'\n",
    "    \n",
    "    n = 0\n",
    "    \n",
    "    def __init__(self, name, age, hair):\n",
    "        self.name = name\n",
    "        self.age = age\n",
    "        self.hair = hair\n",
    "        \n",
    "        Student.n += 1\n",
    "\n",
    "    def say_hi(self):\n",
    "        print('Hello, my name is', self.name)\n",
    "\n",
    "    @classmethod\n",
    "    def how_many(cls):\n",
    "        print(\"We have {:d} students in this course.\".format(cls.n))\n",
    "        \n",
    "    @classmethod\n",
    "    def change_hair(cls, colour):\n",
    "        cls.hair_colour = colour"
   ]
  },
  {
   "cell_type": "code",
   "execution_count": 3,
   "metadata": {
    "slideshow": {
     "slide_type": "fragment"
    }
   },
   "outputs": [],
   "source": [
    "pete = Student('Pete', 24, 'brown')\n",
    "lisa = Student('Lisa', 26, 'red')\n",
    "jack = Student('Jack', 25, 'black')"
   ]
  },
  {
   "cell_type": "code",
   "execution_count": null,
   "metadata": {},
   "outputs": [],
   "source": [
    "print(jack.hair)\n",
    "print(pete.hair)"
   ]
  },
  {
   "cell_type": "code",
   "execution_count": 4,
   "metadata": {
    "slideshow": {
     "slide_type": "slide"
    }
   },
   "outputs": [],
   "source": [
    "pete.change_hair('white')"
   ]
  },
  {
   "cell_type": "code",
   "execution_count": 5,
   "metadata": {
    "slideshow": {
     "slide_type": "fragment"
    }
   },
   "outputs": [
    {
     "data": {
      "text/plain": [
       "'white'"
      ]
     },
     "execution_count": 5,
     "metadata": {},
     "output_type": "execute_result"
    }
   ],
   "source": [
    "pete.hair_colour"
   ]
  },
  {
   "cell_type": "code",
   "execution_count": 6,
   "metadata": {
    "slideshow": {
     "slide_type": "fragment"
    }
   },
   "outputs": [
    {
     "data": {
      "text/plain": [
       "'white'"
      ]
     },
     "execution_count": 6,
     "metadata": {},
     "output_type": "execute_result"
    }
   ],
   "source": [
    "jack.hair_colour"
   ]
  },
  {
   "cell_type": "markdown",
   "metadata": {
    "slideshow": {
     "slide_type": "slide"
    }
   },
   "source": [
    "### Inheritance"
   ]
  },
  {
   "cell_type": "markdown",
   "metadata": {
    "slideshow": {
     "slide_type": "fragment"
    }
   },
   "source": [
    "In Python a class can be declared as an extension of one or more different classes. This mechanism is called inheritance. The child class (the one that inherits) has the same internal structure of the parent class (the one that is inherited). "
   ]
  },
  {
   "cell_type": "code",
   "execution_count": 7,
   "metadata": {
    "slideshow": {
     "slide_type": "slide"
    }
   },
   "outputs": [],
   "source": [
    "class Person:\n",
    "    def __init__(self, fname, lname):\n",
    "        self.firstname = fname\n",
    "        self.lastname = lname\n",
    "\n",
    "    def printname(self):\n",
    "        print(self.firstname, self.lastname)        \n",
    "    "
   ]
  },
  {
   "cell_type": "markdown",
   "metadata": {
    "slideshow": {
     "slide_type": "slide"
    }
   },
   "source": [
    "Create a class named Student, which will inherit the properties and methods from the Person class:"
   ]
  },
  {
   "cell_type": "code",
   "execution_count": 8,
   "metadata": {
    "slideshow": {
     "slide_type": "fragment"
    }
   },
   "outputs": [],
   "source": [
    "class Student(Person):\n",
    "    pass"
   ]
  },
  {
   "cell_type": "markdown",
   "metadata": {
    "slideshow": {
     "slide_type": "fragment"
    }
   },
   "source": [
    "Let us investigate what happens when we access attributes and methods. First we instance the class"
   ]
  },
  {
   "cell_type": "code",
   "execution_count": 9,
   "metadata": {
    "slideshow": {
     "slide_type": "fragment"
    }
   },
   "outputs": [
    {
     "name": "stdout",
     "output_type": "stream",
     "text": [
      "Steven Hill\n"
     ]
    }
   ],
   "source": [
    "s = Student('Steven', 'Hill')\n",
    "s.printname()"
   ]
  },
  {
   "cell_type": "code",
   "execution_count": 10,
   "metadata": {
    "slideshow": {
     "slide_type": "slide"
    }
   },
   "outputs": [],
   "source": [
    "class Student(Person):\n",
    "    def __init__(self, fname,lname, marks):\n",
    "        Person.__init__(self, fname, lname)\n",
    "        self.marks = marks\n",
    "        print('(Initialized Student: {})'.format(self.firstname))"
   ]
  },
  {
   "cell_type": "code",
   "execution_count": 11,
   "metadata": {
    "slideshow": {
     "slide_type": "fragment"
    }
   },
   "outputs": [
    {
     "name": "stdout",
     "output_type": "stream",
     "text": [
      "(Initialized Student: John)\n",
      "John Doe\n"
     ]
    }
   ],
   "source": [
    "s = Student('John', 'Doe', 2.7)\n",
    "s.marks\n",
    "s.printname()"
   ]
  },
  {
   "cell_type": "markdown",
   "metadata": {
    "slideshow": {
     "slide_type": "slide"
    }
   },
   "source": [
    "Now we create a class called Teacher"
   ]
  },
  {
   "cell_type": "code",
   "execution_count": 12,
   "metadata": {
    "slideshow": {
     "slide_type": "fragment"
    }
   },
   "outputs": [],
   "source": [
    "class Teacher(Person):\n",
    "    def __init__(self,  fname, lname, salary):\n",
    "        Person.__init__(self,  fname,lname)\n",
    "        self.salary = salary\n",
    "        print('(Initialized Teacher: {})'.format(self.firstname))"
   ]
  },
  {
   "cell_type": "markdown",
   "metadata": {
    "slideshow": {
     "slide_type": "slide"
    }
   },
   "source": [
    "Let's try it"
   ]
  },
  {
   "cell_type": "code",
   "execution_count": 15,
   "metadata": {
    "slideshow": {
     "slide_type": "fragment"
    }
   },
   "outputs": [
    {
     "name": "stdout",
     "output_type": "stream",
     "text": [
      "(Initialized Teacher: Steven)\n",
      "30000\n",
      "(Initialized Student: John)\n",
      "John Doe\n"
     ]
    }
   ],
   "source": [
    "t = Teacher('Steven', 'Hill', 30000)\n",
    "print(t.salary)\n",
    "s = Student('John', 'Doe', 2.7)\n",
    "s.printname()"
   ]
  },
  {
   "cell_type": "code",
   "execution_count": null,
   "metadata": {
    "slideshow": {
     "slide_type": "fragment"
    }
   },
   "outputs": [],
   "source": [
    "t.printname()"
   ]
  },
  {
   "cell_type": "markdown",
   "metadata": {
    "slideshow": {
     "slide_type": "slide"
    }
   },
   "source": [
    "### Polymorphism"
   ]
  },
  {
   "cell_type": "markdown",
   "metadata": {
    "slideshow": {
     "slide_type": "slide"
    }
   },
   "source": [
    "In Python, polymorphism refers to the way in which different object classes can share the same method name. The best way to explain this is by example:"
   ]
  },
  {
   "cell_type": "code",
   "execution_count": 17,
   "metadata": {
    "slideshow": {
     "slide_type": "fragment"
    }
   },
   "outputs": [
    {
     "name": "stdout",
     "output_type": "stream",
     "text": [
      "My name is Kate\n",
      "My name is Lady John\n"
     ]
    }
   ],
   "source": [
    "class female:\n",
    "    def __init__(self, name):\n",
    "        self.name = name\n",
    "        self.sex = 'female'\n",
    "\n",
    "    def speak(self):\n",
    "        return('My name is ' + self.name)\n",
    "    \n",
    "class male:\n",
    "    def __init__(self, name):\n",
    "        self.name = name\n",
    "        self.sex = 'male'\n",
    "\n",
    "    def speak(self):\n",
    "        return('My name is Lady ' + self.name)\n",
    "    \n",
    "kate = female('Kate')\n",
    "john = male('John')\n",
    "\n",
    "print(kate.speak())\n",
    "print(john.speak())"
   ]
  },
  {
   "cell_type": "markdown",
   "metadata": {
    "slideshow": {
     "slide_type": "fragment"
    }
   },
   "source": [
    "Here we have two classes class, and each has a .speak() method. When called, each object's .speak() method returns a result unique to the object."
   ]
  },
  {
   "cell_type": "markdown",
   "metadata": {
    "slideshow": {
     "slide_type": "slide"
    }
   },
   "source": [
    "### Special Methods"
   ]
  },
  {
   "cell_type": "markdown",
   "metadata": {
    "slideshow": {
     "slide_type": "fragment"
    }
   },
   "source": [
    "Special methods can be defined to add \"magic\" to your classes. They're always surrounded by double underscores (e.g. __init__ or __lt__). . Magic methods are not meant to be invoked directly by you, but the invocation happens internally from the class on a certain action. For example, when you add two numbers using the + operator, internally, the __add__() method will be called."
   ]
  },
  {
   "cell_type": "code",
   "execution_count": 18,
   "metadata": {
    "slideshow": {
     "slide_type": "fragment"
    }
   },
   "outputs": [],
   "source": [
    "### Special Methods\n",
    "\n",
    "class Book:\n",
    "    def __init__(self, title, author, pages):\n",
    "        print(\"A book is created\")\n",
    "        self.title = title\n",
    "        self.author = author\n",
    "        self.pages = pages\n",
    "\n",
    "    def __str__(self):\n",
    "        return \"Title: %s, author: %s, pages: %s\" %(self.title, self.author, self.pages)\n",
    "\n",
    "    def __len__(self):\n",
    "        return self.pages\n",
    "\n",
    "    def __del__(self):\n",
    "        print(\"A book is destroyed\")"
   ]
  },
  {
   "cell_type": "code",
   "execution_count": 25,
   "metadata": {
    "slideshow": {
     "slide_type": "slide"
    }
   },
   "outputs": [
    {
     "name": "stdout",
     "output_type": "stream",
     "text": [
      "A book is created\n",
      "Title: Python Rocks!, author: Richard Lucas, pages: 159\n",
      "159\n",
      "A book is destroyed\n"
     ]
    },
    {
     "ename": "NameError",
     "evalue": "name 'book' is not defined",
     "output_type": "error",
     "traceback": [
      "\u001b[0;31m---------------------------------------------------------------------------\u001b[0m",
      "\u001b[0;31mNameError\u001b[0m                                 Traceback (most recent call last)",
      "\u001b[0;32m<ipython-input-25-c4af81bbd207>\u001b[0m in \u001b[0;36m<module>\u001b[0;34m\u001b[0m\n\u001b[1;32m      6\u001b[0m \u001b[0;32mdel\u001b[0m \u001b[0mbook\u001b[0m\u001b[0;34m\u001b[0m\u001b[0;34m\u001b[0m\u001b[0m\n\u001b[1;32m      7\u001b[0m \u001b[0;34m\u001b[0m\u001b[0m\n\u001b[0;32m----> 8\u001b[0;31m \u001b[0mbook\u001b[0m\u001b[0;34m\u001b[0m\u001b[0;34m\u001b[0m\u001b[0m\n\u001b[0m",
      "\u001b[0;31mNameError\u001b[0m: name 'book' is not defined"
     ]
    }
   ],
   "source": [
    "book = Book(\"Python Rocks!\", \"Richard Lucas\", 159)\n",
    "\n",
    "#Special Methods\n",
    "print(book)\n",
    "print(len(book))\n",
    "del book\n",
    "\n",
    "book"
   ]
  },
  {
   "cell_type": "markdown",
   "metadata": {
    "slideshow": {
     "slide_type": "slide"
    }
   },
   "source": [
    "## Exercises\n",
    "\n",
    "1. Create a class line. The class methods should accept coordinates as a pair of tuples and returns distance of the line\n",
    "\n",
    "2. Create a class called Numbers which takes the parameters x and y (these should all be numbers).\n",
    "\n",
    "     - Write a method called add which returns the sum of the attributes x and y.\n",
    "     - Write a subtract, which takes two number parameters and returns the difference of the attributes x and y.\n",
    "     - Write a method called multiply which returns the product of the attributes x and y.\n",
    "     - Write a method called divide which returns the quotient of the attributes x and y.\n",
    " \n",
    " \n",
    "3. Create your own rocket\n",
    "\n",
    "    - Define the Rocket() class.\n",
    "    - Define the __init__() method, which sets an x and a y value for each Rocket object.\n",
    "    - Define the move_up() method.\n",
    "    - Create a Rocket object.\n",
    "    - Print the object's y-value.\n",
    "    - Move the rocket up, and print its y-value again.\n",
    "    - Create a fleet of rockets, and prove that they are indeed separate Rocket objects.\n"
   ]
  },
  {
   "cell_type": "markdown",
   "metadata": {},
   "source": [
    "Sources: \n",
    "   - https://data-flair.training/blogs/python-class/\n",
    "   - https://python.swaroopch.com/oop.html\n",
    "   - https://www.datacamp.com/community/tutorials/python-oop-tutorial\n",
    "    "
   ]
  }
 ],
 "metadata": {
  "celltoolbar": "Slideshow",
  "kernelspec": {
   "display_name": "Python 3",
   "language": "python",
   "name": "python3"
  },
  "language_info": {
   "codemirror_mode": {
    "name": "ipython",
    "version": 3
   },
   "file_extension": ".py",
   "mimetype": "text/x-python",
   "name": "python",
   "nbconvert_exporter": "python",
   "pygments_lexer": "ipython3",
   "version": "3.8.2"
  },
  "toc": {
   "base_numbering": 1,
   "nav_menu": {},
   "number_sections": true,
   "sideBar": true,
   "skip_h1_title": false,
   "title_cell": "Table of Contents",
   "title_sidebar": "Contents",
   "toc_cell": false,
   "toc_position": {},
   "toc_section_display": true,
   "toc_window_display": false
  }
 },
 "nbformat": 4,
 "nbformat_minor": 2
}
