{
 "cells": [
  {
   "cell_type": "markdown",
   "metadata": {},
   "source": [
    "# Jupyter Tips and Tricks"
   ]
  },
  {
   "cell_type": "markdown",
   "metadata": {},
   "source": [
    "Jupyter is based on the IPython project. The name Jupyter is an indirect acronyum of the three core languages it was designed for: JUlia, PYThon, and R and is inspired by the planet Jupiter."
   ]
  },
  {
   "cell_type": "markdown",
   "metadata": {},
   "source": [
    "## Keyboard Shortcuts"
   ]
  },
  {
   "cell_type": "markdown",
   "metadata": {},
   "source": [
    "There are 2 modes in the Jupyter notebook: **command mode** and **edit mode**:"
   ]
  },
  {
   "cell_type": "markdown",
   "metadata": {},
   "source": [
    "Shortcuts which can be used in both modes:\n",
    "- ```Shift + Enter``` run current cell and jump to cell below\n",
    "- ```Ctrl + Enter``` run selected cells\n",
    "- ```Alt + Enter``` run the current cell and insert new cell below\n",
    "- ```Ctrl + S``` save notebook and checkpoint"
   ]
  },
  {
   "cell_type": "code",
   "execution_count": null,
   "metadata": {},
   "outputs": [],
   "source": []
  },
  {
   "cell_type": "markdown",
   "metadata": {},
   "source": [
    "### Running External File\n",
    "%run allows you to run any external python file from jupyter notebook"
   ]
  },
  {
   "cell_type": "code",
   "execution_count": null,
   "metadata": {},
   "outputs": [],
   "source": [
    "%run myCode.py"
   ]
  },
  {
   "cell_type": "markdown",
   "metadata": {},
   "source": [
    "### Code Execution Time"
   ]
  },
  {
   "cell_type": "markdown",
   "metadata": {},
   "source": [
    "The %time magic command allows to track the total execution of your cell"
   ]
  },
  {
   "cell_type": "code",
   "execution_count": 2,
   "metadata": {},
   "outputs": [
    {
     "name": "stdout",
     "output_type": "stream",
     "text": [
      "CPU times: user 11.5 ms, sys: 0 ns, total: 11.5 ms\n",
      "Wall time: 10.5 ms\n"
     ]
    }
   ],
   "source": [
    "%%time\n",
    "\n",
    "for i in range(10000):\n",
    "    a = i**2"
   ]
  },
  {
   "cell_type": "markdown",
   "metadata": {},
   "source": [
    "### Copy content to external file"
   ]
  },
  {
   "cell_type": "markdown",
   "metadata": {},
   "source": [
    "With the %%writefile command you can the content directly from your jupyter notebook into python script or a text file"
   ]
  },
  {
   "cell_type": "code",
   "execution_count": 4,
   "metadata": {},
   "outputs": [
    {
     "name": "stdout",
     "output_type": "stream",
     "text": [
      "Writing myCode.py\n"
     ]
    }
   ],
   "source": [
    "%%writefile myCode.py\n",
    "\n",
    "def func():\n",
    "    print('Hello World')\n",
    "    \n",
    "func"
   ]
  },
  {
   "cell_type": "markdown",
   "metadata": {},
   "source": [
    "### Display content of external file"
   ]
  },
  {
   "cell_type": "markdown",
   "metadata": {},
   "source": [
    "%pycat allows you to display the content of any file in any directory"
   ]
  },
  {
   "cell_type": "code",
   "execution_count": 5,
   "metadata": {},
   "outputs": [],
   "source": [
    "%pycat myCode.py"
   ]
  },
  {
   "cell_type": "markdown",
   "metadata": {},
   "source": [
    "### List all variables"
   ]
  },
  {
   "cell_type": "markdown",
   "metadata": {},
   "source": [
    "This %who command displays all the variables used in the whole notebook"
   ]
  },
  {
   "cell_type": "code",
   "execution_count": 6,
   "metadata": {},
   "outputs": [
    {
     "name": "stdout",
     "output_type": "stream",
     "text": [
      "a\t b\t c\t i\t \n"
     ]
    }
   ],
   "source": [
    "a = 1\n",
    "b = \"string\"\n",
    "c = [2,3,4,5]\n",
    "\n",
    "%who"
   ]
  },
  {
   "cell_type": "markdown",
   "metadata": {},
   "source": [
    "In order to dsiplay specific data type variables, we need to pass the data type after the magic command"
   ]
  },
  {
   "cell_type": "code",
   "execution_count": 7,
   "metadata": {},
   "outputs": [
    {
     "name": "stdout",
     "output_type": "stream",
     "text": [
      "b\t \n"
     ]
    }
   ],
   "source": [
    "%who str"
   ]
  },
  {
   "cell_type": "markdown",
   "metadata": {},
   "source": [
    "### Object detailed information"
   ]
  },
  {
   "cell_type": "markdown",
   "metadata": {},
   "source": [
    "%pinfo provides a detailed information about the object which is passed along with it"
   ]
  },
  {
   "cell_type": "code",
   "execution_count": 8,
   "metadata": {},
   "outputs": [],
   "source": [
    "a = \"I love python\"\n",
    "%pinfo a"
   ]
  },
  {
   "cell_type": "markdown",
   "metadata": {},
   "source": [
    "### Using the shell"
   ]
  },
  {
   "cell_type": "markdown",
   "metadata": {},
   "source": [
    "If you want to use the shell, this magic command does the trick for you"
   ]
  },
  {
   "cell_type": "code",
   "execution_count": 9,
   "metadata": {},
   "outputs": [
    {
     "data": {
      "text/plain": [
       "['Mo 18. Mai 16:08:12 CEST 2020']"
      ]
     },
     "execution_count": 9,
     "metadata": {},
     "output_type": "execute_result"
    }
   ],
   "source": [
    "%system date"
   ]
  },
  {
   "cell_type": "markdown",
   "metadata": {},
   "source": [
    "### Execute html script"
   ]
  },
  {
   "cell_type": "markdown",
   "metadata": {},
   "source": [
    "%% html allows us to write html code in the cell. The cell will now act as a html editor with html output of the cell."
   ]
  },
  {
   "cell_type": "code",
   "execution_count": 11,
   "metadata": {},
   "outputs": [
    {
     "data": {
      "text/html": [
       "<html>\n",
       "<body>\n",
       "<table>\n",
       "        <tr> \n",
       "            <th>Name</th> \n",
       "            <th>Country</th> \n",
       "            <th>Age</th> \n",
       "        </tr> \n",
       "        <tr> \n",
       "            <td>Sid</td> \n",
       "            <td>India</td> \n",
       "            <td>22</td> \n",
       "        </tr>\n",
       "        <tr> \n",
       "            <td>Dave</td> \n",
       "            <td>UK</td> \n",
       "            <td>28</td> \n",
       "        </tr>\n",
       "</table>\n",
       "</body>\n",
       "</html>\n"
      ],
      "text/plain": [
       "<IPython.core.display.HTML object>"
      ]
     },
     "metadata": {},
     "output_type": "display_data"
    }
   ],
   "source": [
    "%%html\n",
    "<html>\n",
    "<body>\n",
    "<table>\n",
    "        <tr> \n",
    "            <th>Name</th> \n",
    "            <th>Country</th> \n",
    "            <th>Age</th> \n",
    "        </tr> \n",
    "        <tr> \n",
    "            <td>Sid</td> \n",
    "            <td>India</td> \n",
    "            <td>22</td> \n",
    "        </tr>\n",
    "        <tr> \n",
    "            <td>Dave</td> \n",
    "            <td>UK</td> \n",
    "            <td>28</td> \n",
    "        </tr>\n",
    "</table>\n",
    "</body>\n",
    "</html>"
   ]
  },
  {
   "cell_type": "markdown",
   "metadata": {},
   "source": [
    "### Switch color scheme for prompts"
   ]
  },
  {
   "cell_type": "markdown",
   "metadata": {},
   "source": [
    "The %colors command allows you to switch color scheme for prompts.\n",
    "Currently implemented schemes: NoColor, Linux, LightBG."
   ]
  },
  {
   "cell_type": "code",
   "execution_count": 14,
   "metadata": {},
   "outputs": [],
   "source": [
    "%colors Linux"
   ]
  },
  {
   "cell_type": "markdown",
   "metadata": {},
   "source": [
    "### History"
   ]
  },
  {
   "cell_type": "markdown",
   "metadata": {},
   "source": [
    "With the %history command you can print the input history (_i<n> variables), with most recent last"
   ]
  },
  {
   "cell_type": "code",
   "execution_count": 15,
   "metadata": {},
   "outputs": [
    {
     "name": "stdout",
     "output_type": "stream",
     "text": [
      "   4:\n",
      "%%writefile myCode.py\n",
      "\n",
      "def func():\n",
      "    print('Hello World')\n",
      "    \n",
      "func\n",
      "   5: %pycat myCode.py\n",
      "   6:\n",
      "a = 1\n",
      "b = \"string\"\n",
      "c = [2,3,4,5]\n",
      "\n",
      "%who\n"
     ]
    }
   ],
   "source": [
    "%history -n 4-6"
   ]
  },
  {
   "cell_type": "markdown",
   "metadata": {},
   "source": [
    "### Load code"
   ]
  },
  {
   "cell_type": "markdown",
   "metadata": {},
   "source": [
    "Load code into the current frontend with %load"
   ]
  },
  {
   "cell_type": "code",
   "execution_count": null,
   "metadata": {},
   "outputs": [],
   "source": [
    "%load myCode.py"
   ]
  },
  {
   "cell_type": "markdown",
   "metadata": {},
   "source": [
    "### Pip"
   ]
  },
  {
   "cell_type": "markdown",
   "metadata": {},
   "source": [
    "Run the pip package manager within the current kernel"
   ]
  },
  {
   "cell_type": "code",
   "execution_count": 17,
   "metadata": {},
   "outputs": [
    {
     "name": "stdout",
     "output_type": "stream",
     "text": [
      "Requirement already satisfied: numpy in ./.local/lib/python3.8/site-packages (1.18.4)\n",
      "Note: you may need to restart the kernel to use updated packages.\n"
     ]
    }
   ],
   "source": [
    "%pip install numpy"
   ]
  },
  {
   "cell_type": "markdown",
   "metadata": {},
   "source": [
    "### Search"
   ]
  },
  {
   "cell_type": "markdown",
   "metadata": {},
   "source": [
    "Using %psearch you can search for object in namespaces by wildcard."
   ]
  },
  {
   "cell_type": "code",
   "execution_count": 20,
   "metadata": {},
   "outputs": [],
   "source": [
    "%psearch a*  "
   ]
  },
  {
   "cell_type": "markdown",
   "metadata": {},
   "source": [
    "## Notebook extensions"
   ]
  },
  {
   "cell_type": "markdown",
   "metadata": {},
   "source": [
    "Jupyter allows you to add new functionality to Notebooks through extensions.The jupyter_contrib_nbextensions package contains a collection of community-contributed unofficial extensions that add functionality to the Jupyter notebook.To install the jupyter_contrib_nbextensions notebook extensions, three steps are required:\n",
    "\n",
    "1. jupyter_contrib_nbextensions package needs to be installed. \n",
    "     - pip: ```pip install jupyter_contrib_nbextensions```\n",
    "     - conda: ```conda install -c conda-forge jupyter_contrib_nbextensions```\n",
    "     \n",
    "\n",
    "\n",
    "2. the notebook extensions themselves need to be copied to the Jupyter data directory\n",
    "\n",
    "    ```jupyter contrib {nbextension} install```\n",
    "    \n",
    "\n",
    "3. the installed notebook extensions must be enabled, either by using built-in Jupyter commands, or more conveniently by using the jupyter_nbextensions_configurator server extension"
   ]
  },
  {
   "cell_type": "markdown",
   "metadata": {},
   "source": [
    "<img src=\"images/jupyter_ext.png\" />"
   ]
  },
  {
   "cell_type": "markdown",
   "metadata": {},
   "source": [
    "### List of usefull extensions\n",
    "- ***Autopep8***: Automatically formats Python code to conform to the PEP 8 style guide\n",
    "- ***Spellchecker***: This nbextension provides a CodeMirror overlay mode to highlight incorrectly spelled words in Markdown and Raw cells\n",
    "- ***Notify***: Displays a web notification to notify you when the kernel becomes idle\n",
    "- ***Collapsible Headings***: Allows notebook to have collapsible sections, separated by headings.\n",
    "- ***Table of Contents***: This creates a TOC automatically based on the header cells in the notebook.\n",
    "- ***Codefolding***: You can reduce the size of the cells by collapsing function definitions and long code blocks\n",
    "- ***Split Cells Notebook***: Enable split cells in Jupyter notebooks\n",
    "- ***Variable Inspector*** : Enables to collect all defined variables and display them in a floating window\n"
   ]
  }
 ],
 "metadata": {
  "kernelspec": {
   "display_name": "Python 3",
   "language": "python",
   "name": "python3"
  },
  "language_info": {
   "codemirror_mode": {
    "name": "ipython",
    "version": 3
   },
   "file_extension": ".py",
   "mimetype": "text/x-python",
   "name": "python",
   "nbconvert_exporter": "python",
   "pygments_lexer": "ipython3",
   "version": "3.8.2"
  },
  "toc": {
   "base_numbering": 1,
   "nav_menu": {},
   "number_sections": true,
   "sideBar": true,
   "skip_h1_title": false,
   "title_cell": "Table of Contents",
   "title_sidebar": "Contents",
   "toc_cell": false,
   "toc_position": {},
   "toc_section_display": true,
   "toc_window_display": false
  }
 },
 "nbformat": 4,
 "nbformat_minor": 2
}
